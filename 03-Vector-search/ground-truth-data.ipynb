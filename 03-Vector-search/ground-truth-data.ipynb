{
 "cells": [
  {
   "cell_type": "code",
   "execution_count": 6,
   "id": "6fb04da3-3b75-4c41-beb8-1cd99f2b209f",
   "metadata": {},
   "outputs": [],
   "source": [
    "import requests \n",
    "import json\n",
    "\n",
    "docs_url = 'https://github.com/DataTalksClub/llm-zoomcamp/blob/main/01-intro/documents.json?raw=1'\n",
    "docs_response = requests.get(docs_url)\n",
    "documents_raw = docs_response.json()\n",
    "\n",
    "documents = []\n",
    "\n",
    "for course in documents_raw:\n",
    "    course_name = course['course']\n",
    "\n",
    "    for doc in course['documents']:\n",
    "        doc['course'] = course_name\n",
    "        documents.append(doc)"
   ]
  },
  {
   "cell_type": "code",
   "execution_count": 10,
   "id": "65f7edfe-7760-4755-8f0a-f8e3e7e3caa6",
   "metadata": {},
   "outputs": [],
   "source": [
    "import hashlib\n",
    "\n",
    "def generate_document_id(doc):\n",
    "    # combined = f\"{doc['course']}-{doc['question']}\"\n",
    "    combined = f\"{doc['course']}-{doc['question']}-{doc['text'][:10]}\"\n",
    "    hash_object = hashlib.md5(combined.encode())\n",
    "    hash_hex = hash_object.hexdigest()\n",
    "    document_id = hash_hex[:8]\n",
    "    return document_id"
   ]
  },
  {
   "cell_type": "code",
   "execution_count": 11,
   "id": "f25d5051-ac39-487a-bcf8-80c9b24a6d24",
   "metadata": {},
   "outputs": [],
   "source": [
    "for doc in documents:\n",
    "    doc['id'] = generate_document_id(doc)"
   ]
  },
  {
   "cell_type": "code",
   "execution_count": 12,
   "id": "affa1ce8-5db9-44dd-90be-26481a5413d6",
   "metadata": {},
   "outputs": [
    {
     "data": {
      "text/plain": [
       "{'text': \"You don't need it. You're accepted. You can also just start learning and submitting homework without registering. It is not checked against any registered list. Registration is just to gauge interest before the start date.\",\n",
       " 'section': 'General course-related questions',\n",
       " 'question': 'Course - I have registered for the Data Engineering Bootcamp. When can I expect to receive the confirmation email?',\n",
       " 'course': 'data-engineering-zoomcamp',\n",
       " 'id': '0bbf41ec'}"
      ]
     },
     "execution_count": 12,
     "metadata": {},
     "output_type": "execute_result"
    }
   ],
   "source": [
    "documents[3]"
   ]
  },
  {
   "cell_type": "code",
   "execution_count": 13,
   "id": "125c3618-eab0-4f84-9da2-0c5df60006d5",
   "metadata": {},
   "outputs": [],
   "source": [
    "from collections import defaultdict\n",
    "\n",
    "hashes = defaultdict(list)\n",
    "\n",
    "for doc in documents:\n",
    "    doc_id = doc['id']\n",
    "    hashes[doc_id].append(doc)"
   ]
  },
  {
   "cell_type": "code",
   "execution_count": 14,
   "id": "2d27ade8-0128-4495-9668-64b4f4c6257f",
   "metadata": {},
   "outputs": [
    {
     "name": "stdout",
     "output_type": "stream",
     "text": [
      "593f7569 2\n"
     ]
    }
   ],
   "source": [
    "# checking duplicates\n",
    "for k, values in hashes.items():\n",
    "    if len(values) > 1:\n",
    "        print(k, len(values))"
   ]
  },
  {
   "cell_type": "code",
   "execution_count": 16,
   "id": "6b256fdc-8229-4085-bfb4-864959d21afe",
   "metadata": {},
   "outputs": [
    {
     "data": {
      "text/plain": [
       "[{'text': \"They both do the same, it's just less typing from the script.\\nAsked by Andrew Katoch, Added by Edidiong Esu\",\n",
       "  'section': '6. Decision Trees and Ensemble Learning',\n",
       "  'question': 'Does it matter if we let the Python file create the server or if we run gunicorn directly?',\n",
       "  'course': 'machine-learning-zoomcamp',\n",
       "  'id': '593f7569'},\n",
       " {'text': \"They both do the same, it's just less typing from the script.\",\n",
       "  'section': '6. Decision Trees and Ensemble Learning',\n",
       "  'question': 'Does it matter if we let the Python file create the server or if we run gunicorn directly?',\n",
       "  'course': 'machine-learning-zoomcamp',\n",
       "  'id': '593f7569'}]"
      ]
     },
     "execution_count": 16,
     "metadata": {},
     "output_type": "execute_result"
    }
   ],
   "source": [
    "hashes['593f7569']"
   ]
  },
  {
   "cell_type": "code",
   "execution_count": 17,
   "id": "e1724883-f754-4b0e-9108-d45a5cd26ce5",
   "metadata": {},
   "outputs": [],
   "source": [
    "with open('documents-with-ids.json', 'wt') as f_out:\n",
    "    json.dump(documents, f_out, indent=2)"
   ]
  },
  {
   "cell_type": "code",
   "execution_count": 18,
   "id": "8c2c9f62-dcfc-4d1b-a962-4f47ee0f63ff",
   "metadata": {},
   "outputs": [
    {
     "name": "stdout",
     "output_type": "stream",
     "text": [
      "[\n",
      "  {\n",
      "    \"text\": \"The purpose of this document is to capture frequently asked technical questions\\nThe exact day and hour of the course will be 15th Jan 2024 at 17h00. The course will start with the first  \\u201cOffice Hours'' live.1\\nSubscribe to course public Google Calendar (it works from Desktop only).\\nRegister before the course starts using this link.\\nJoin the course Telegram channel with announcements.\\nDon\\u2019t forget to register in DataTalks.Club's Slack and join the channel.\",\n",
      "    \"section\": \"General course-related questions\",\n",
      "    \"question\": \"Course - When will the course start?\",\n",
      "    \"course\": \"data-engineering-zoomcamp\",\n",
      "    \"id\": \"c02e79ef\"\n",
      "  },\n",
      "  {\n",
      "    \"text\": \"GitHub - DataTalksClub data-engineering-zoomcamp#prerequisites\",\n"
     ]
    }
   ],
   "source": [
    "!head documents-with-ids.json"
   ]
  },
  {
   "cell_type": "code",
   "execution_count": 10,
   "id": "293cbe4c-ab8d-4bdf-899f-3e3af5a7c7f2",
   "metadata": {},
   "outputs": [],
   "source": [
    "prompt_template = \"\"\"\n",
    "You emulate a student who's taking our course.\n",
    "Formulate 5 questions this student might ask based on a FAQ record. The record\n",
    "should contain the answer to the questions, and the questions should be complete and not too short.\n",
    "If possible, use as fewer words as possible from the record. \n",
    "\n",
    "The record:\n",
    "\n",
    "section: {section}\n",
    "question: {question}\n",
    "answer: {text}\n",
    "\n",
    "Provide the output in parsable JSON without using code blocks:\n",
    "\n",
    "[\"question1\", \"question2\", ..., \"question5\"]\n",
    "\"\"\".strip()"
   ]
  },
  {
   "cell_type": "code",
   "execution_count": 11,
   "id": "00e9f27a-d6c0-4aa5-8d08-09f887041254",
   "metadata": {},
   "outputs": [],
   "source": [
    "from openai import OpenAI\n",
    "client = OpenAI()\n",
    "\n",
    "def generate_questions(doc):\n",
    "    prompt = prompt_template.format(**doc)\n",
    "\n",
    "    response = client.chat.completions.create(\n",
    "        model='gpt-4o',\n",
    "        messages=[{\"role\": \"user\", \"content\": prompt}]\n",
    "    )\n",
    "\n",
    "    json_response = response.choices[0].message.content\n",
    "    return json_response"
   ]
  },
  {
   "cell_type": "code",
   "execution_count": 14,
   "id": "4385a04e-f7e2-4900-98d7-ba7b26f57378",
   "metadata": {},
   "outputs": [
    {
     "name": "stderr",
     "output_type": "stream",
     "text": [
      "/home/codespace/miniconda3/lib/python3.10/site-packages/tqdm/auto.py:21: TqdmWarning: IProgress not found. Please update jupyter and ipywidgets. See https://ipywidgets.readthedocs.io/en/stable/user_install.html\n",
      "  from .autonotebook import tqdm as notebook_tqdm\n"
     ]
    }
   ],
   "source": [
    "from tqdm.auto import tqdm"
   ]
  },
  {
   "cell_type": "code",
   "execution_count": 15,
   "id": "2b92e463-9288-4e2c-a9ef-25fda15e7824",
   "metadata": {},
   "outputs": [
    {
     "name": "stderr",
     "output_type": "stream",
     "text": [
      "100%|████████████████████████████████████████████████████████████████████████████████| 948/948 [41:11<00:00,  2.61s/it]\n"
     ]
    }
   ],
   "source": [
    "results = {}\n",
    "\n",
    "for doc in tqdm(documents): \n",
    "    doc_id = doc['id']\n",
    "    if doc_id in results:\n",
    "        continue\n",
    "\n",
    "    questions = generate_questions(doc)\n",
    "    results[doc_id] = questions"
   ]
  },
  {
   "cell_type": "code",
   "execution_count": 28,
   "id": "ebe9582f-34ae-40c3-87e8-da779051b2fb",
   "metadata": {},
   "outputs": [
    {
     "name": "stdout",
     "output_type": "stream",
     "text": [
      "['When exactly will the course begin?', 'How can I stay updated with course announcements?', 'Is there a way to add the course schedule to my calendar?', 'What should I do before the course starts?', 'Where can I join discussions for the course?']\n",
      "['Where can I find the prerequisites for the course?', 'What skills should I have before starting the course?', 'Is there a specific GitHub repository for course prerequisites?', 'How do I know if I am eligible to take this course?', 'Where are the details about prior knowledge for the course?']\n",
      "['Can I join the course after it has started?', 'Is it possible to register for the course late?', 'Can I submit homework if I join the course late?', 'Are there deadlines for final projects if I join late?', 'Is it okay to register for the course after the start date without affecting my ability to submit assignments?']\n",
      "['Do I need a confirmation email to start the Data Engineering Bootcamp?', 'When will I receive the confirmation email for the Data Engineering Bootcamp?', 'Is it necessary to register before starting the Data Engineering Bootcamp?', 'Can I start submitting homework without registering for the Data Engineering Bootcamp?', 'What is the purpose of registering for the Data Engineering Bootcamp?']\n",
      "['What can I do before the course starts?', 'What dependencies do I need?', 'How should I prepare for the course?', 'Do I need to install anything before the course?', 'What should I review before the course begins?']\n",
      "['How many Zoomcamps are offered in a year?', 'When does the Data-Engineering Zoomcamp take place?', 'Is there only one live cohort for each Zoomcamp per year?', 'Can I take Zoomcamps at my own pace without joining a live cohort?', 'What are the months for the MLOps Zoomcamp?']\n",
      "{'questions': ['Will the 2024 cohort use different tools compared to the previous cohort?', 'Is there a major change in the software tools for the 2024 cohort?', 'Are the tools used in the 2024 edition different from those used in the 2023 edition?', 'Will Mage AI be utilized in the 2024 course instead of Prefect?', 'Are the terraform videos updated for the 2024 edition?']}\n",
      "['Is it possible to access course materials after the course ends?', 'Can I continue at my own pace once the course finishes?', 'Will the homework still be available after the course?', 'Am I allowed to prepare for the next cohort after finishing the course?', 'Can I start working on the final capstone project after the course ends?']\n",
      "['Can I get support if I enroll in the self-paced mode?', 'Is a Slack channel available for asking questions during the self-paced mode?', 'Should I search the Slack channel or FAQ document before asking a question?', 'Can I use the @ZoomcampQABot to help me search for answers in Slack?', 'Are answers from the @ZoomcampQABot always reliable?']\n",
      "['Where can I find the main videos for the Data Engineering course?', 'Is there a specific playlist on YouTube to follow for additional office hours videos?', 'How can I access the updated video list with thumbnails for this course?', 'Where can I find the main playlist link for this course on Slack?', 'Should I refer to playlists from previous years for additional course content?']\n",
      "['How many hours weekly will I spend on the course?', 'Can I estimate my own study hours for this course?', 'What is the expected weekly time commitment?', 'Does prior experience affect study hours per week?', 'Is there a range for the weekly hours needed?']\n",
      "['Can I obtain a certificate if I complete the course at my own pace?', 'Do I need to be part of a live cohort to get a certificate?', 'Is self-paced mode eligible for a certificate in this course?', \"Why can't I receive a certificate in self-paced mode?\", 'What is required for certificate eligibility in this course?']\n",
      "['Where can students find the video URL for office hours or workshop sessions?', 'How are students supposed to ask questions during office hours?', 'Where should students check for the office hour video URL before it begins?', \"Why shouldn't students use the chat to post questions during the session?\", 'Who has access to the Zoom link for the office hours?']\n",
      "['If I miss a workshop, will there be a recording available?', 'Are office hours sessions recorded and accessible later?', 'Can I watch the office hours recording if I cannot attend live?', 'Will the office hours be available to view after the session?', \"Is there a way to rewatch the workshop if I couldn't attend initially?\"]\n",
      "['Where can I find the deadlines for homework and projects?', 'Are there any other sources besides the Announcements from @Au-Tomator for deadline updates?', 'Is the spreadsheet link the only place to find the most current deadlines?', 'What should I do if I notice discrepancies in the deadline information?', 'Can the Instructor(s) update the deadline information directly on the form?']\n",
      "['Are late homework submissions permitted?', 'What happens if the homework form is open after the due date?', 'Can I submit homework after the deadline if the form is still open?', 'How can I confirm if my late homework was accepted?', 'Are exceptions ever made for late homework submissions?']\n",
      "['Where can I find the homework link for the course?', 'What should I use as the URL for my homework?', 'Where should I submit my completed weekly exercises?', 'Can I use GitHub for submitting my homework?', 'What online platforms can I use to host my course code?']\n",
      "['How are homework submissions graded in the course management platform?', \"Where can I see the points I've earned for a particular homework?\", 'What contributes to the sum of points displayed on the leaderboard?', 'How many points do I get for submitting something to the FAQ?', 'What is the point system for learning in public links?']\n",
      "['How can I find out my display name on the leaderboard?', 'What is the process to change my display name for the course leaderboard?', 'Where do I go to edit my course profile and see my display name?', 'What name format will be assigned to me when I create an account?', 'How can I verify my position on the course leaderboard?']\n",
      "['Is Python 3.9 still the recommended version to use in 2024?', 'Can I use Python 3.10 for this course?', 'Is Python 3.11 acceptable for this course?', 'Why is Python 3.9 recommended for this course in 2024?', 'Is Python 3.9 preferred for troubleshooting during the course?']\n",
      "['Can I use my local machine for the course environment?', 'What should I do if I face challenges setting up the environment on Windows?', 'Is there a way to set up the environment if I prefer to work on a virtual machine?', 'Why might someone choose to work on a virtual machine instead of a local machine?', 'Where should I begin if I want to start with the virtual machine setup?']\n",
      "['Is GitHub Codespaces an alternative to cli/git bash?', 'Does GitHub Codespaces provide computing resources?', 'Can I open any GitHub repository in a Codespace?', 'What tools are pre-installed in GitHub Codespaces?', 'Is Docker available on GitHub Codespaces?']\n",
      "['Do I have to use GitHub codespaces, or can I use my existing PostgreSQL & Docker setup?', 'Is it mandatory to use GitHub codespaces for the course?', 'Can I do the course using only my laptop instead of GitHub codespaces?', 'Are there alternative platforms to GitHub codespaces for this course?', 'Is it possible to utilize a GCP VM for this course instead of GitHub codespaces?']\n",
      "['Do I need both GitHub Codespaces and GCP for the course?', 'Can I choose either GitHub Codespaces or GCP based on my final project idea?', 'Will one platform suffice for the course requirements?', 'Is BigQuery a necessary part of GCP for this course?', 'Can I set up a local environment instead of using GitHub Codespaces or GCP?']\n",
      "['How can I open the Run command window on a Windows machine?', 'Where are the registry values located when trying to connect to a GCP VM using VSCode?', \"What value should 'Autorun' be changed to in the Registry Editor to connect to a GCP VM?\", 'Can the connection issue to a GCP VM using VSCode be simplified without changing registry values?', 'Where is the known_hosts file located on a Windows machine to delete the fingerprint?']\n",
      "['If I am more comfortable with AWS, is it permissible to use it instead of GCP for this course?', 'Why is GCP chosen over other cloud providers for this course?', 'Can we use Azure if familiar instead of GCP while taking this course?', 'What is required to sign up for a free GCP account?', 'Is having a Google account mandatory to use GCP for this course?']\n",
      "['Do I need to pay for cloud services during the course?', 'Is there any cost involved with using GCP for the course?', 'Will I incur costs when using GCP resources?', 'Is the GCP free trial sufficient for course requirements?', \"Are cloud services free if using GCP's free trial?\"]\n",
      "['Can I complete the course without access to GCP?', 'Is it possible to run the entire course content locally?', 'Are there local alternatives for all the tools used in the course?', 'Do I need any guidelines to set up a home lab for this course?', 'Which part of the course requires GCP specifically?']\n",
      "['Is it permissible to use AWS for this course?', 'What should I remember if I choose to use AWS?', 'What is the main task for the final capstone evaluation?', 'Where can I seek help if I encounter issues using AWS?', 'Are there more details on using a different tool than the one prescribed?']\n",
      "['Will there be any live Zoom calls apart from Office Hours?', 'Are there any other live sessions scheduled during the course?', 'Can we expect additional live sessions during the Capstone period?', 'Are there any planned Q&A sessions besides Office Hours?', 'Will any extra calls be announced in advance?']\n",
      "['Are we using the NYC Trip data for January 2021?', 'Will the project data remain the same as last year’s?', 'Is the data for this year already available?', 'Should we refer to the 2022 NYC Trip data?', 'Can you confirm if the data is the same as last year’s?']\n",
      "{'questions': ['Has the 2022 repository been removed?', 'Is the 2022 content still accessible?', 'Can I find 2022 materials at the old location?', 'Was the 2022 repository deleted permanently?', 'Do you still retain the 2022 resources?']}\n",
      "['Can I choose any tool for my final project?', 'Is it permissible to use Airflow for the final project?', 'Am I allowed to use any software for my project?', 'Are there any restrictions on the tools we can use for the final project?', 'May I select Airflow instead of the recommended tools for the final project?']\n",
      "['Is it possible to use Prefect instead of Mage in the course?', 'Can I choose AWS instead of GCP products?', 'Is Tableau an acceptable alternative to Metabase?', 'Can I combine tools from different data stacks in my projects?', 'If I select a different stack, do I need to justify my tool choices in my capstone project?']\n",
      "['How can we support the course?', 'How can I share this course with others?', 'What should I do if I find an error in the repository?', 'How can I improve the structure of the repository?', 'Where can I contribute to the text in the course?']\n",
      "{'question1': 'Will I face issues using Windows for this course?', 'question2': 'Can I use macOS without problems for the course?', 'question3': 'Is Linux the recommended OS for the course?', 'question4': 'Do students use different operating systems successfully in this course?', 'question5': 'Are there any OS limitations for participating in the course?'}\n",
      "['Why might Windows users encounter issues with *.sh scripts in the course?', 'Which modules specifically use shell scripts that can cause problems for Windows users?', 'Can Windows users proceed with the course if they are not using WSL?', 'Is there any information on how previous cohorts dealt with shell script issues in Windows?', 'Why is it recommended to set up the WSL environment from the start?']\n",
      "['Where can I find books or resources recommended for the course?', 'Is there a list of additional resources and books for the course?', 'Are there any suggested materials to supplement the course?', 'Can you direct me to any recommended readings or resources?', 'Is there a document listing extra resources for the course?']\n",
      "['What happens if I miss the first project deadline?', 'Can I resubmit a failed project?', 'How many attempts do I have for a project?', 'What does Project Attempt #2 entail?', \"Is there a second chance to submit the project if I'm late?\"]\n",
      "['What is the first step I should take when troubleshooting an issue in the course?', 'How can I search for solutions to my problem online effectively?', 'What should I include when posting a question on Slack?', 'Why should I avoid using screenshots when asking for help with an issue?', 'What can I do if I need to take a break from solving a problem?']\n",
      "['When should I ask for help with a coding issue?', 'What details should I include when asking a question?', \"How should I specify the environment I'm coding on?\", 'What should I do if an error message includes a line number?', 'Why is it important to mention what I have tried already?']\n",
      "['How do I clone the course repository for this course?', 'What should I use to avoid saving large files in a repository?', 'Where can I find a tutorial for setting up my own Git repository?', 'What should I never store in a Git repository even if it is private?', \"How can I access the instructors' code and contribute changes?\"]\n",
      "[\"How do I resolve the 'missing separator' error in my Makefile when using VS Code?\", \"What should I do if I encounter the 'Makefile:2: *** missing separator. Stop' error?\", 'Is there a way to convert spaces to tabs in VS Code to fix Makefile errors?', \"Why am I getting an error in Makefile line 2 that says 'missing separator'?\", 'What steps should I follow to replace spaces with tabs in a Makefile in VS Code?']\n",
      "['How can I open HTML files from WSL 2 Linux using a Windows browser?', 'What tool do I need to install to open HTML files from Linux on WSL 2?', \"How do I open an HTML file named 'index.html' from Linux on WSL 2?\", 'Is it possible to specify which browser to use when opening HTML files from Linux on WSL 2?', 'What command do I use to set the BROWSER environment variable for Firefox in WSL 2?']\n",
      "['How do I set up Chrome Remote Desktop on Compute Engine?', 'What should I do if I get ERROR 403: Forbidden when downloading 2021 TLC data?', 'Where can I find the backup link for the 2021 Yellow Taxi Trip Records?', 'What is the correct link to download the yellow_tripdata_2021-01.csv.gz file?', 'How do I unzip the gz file after downloading the Taxi data backup?']\n",
      "['How should I handle taxi data files when they are provided as *.csv.gz?', 'What should I do if my data file extension is csv.gz to ensure it stores correctly?', 'How do I determine the file name to use from the URL for yellow taxi data?', 'Can pandas read_csv function handle files with a .csv.gz extension?', 'What modification should be made to csv_name in the code to correctly store taxi data files?']\n",
      "['Where can I find the data dictionary for yellow taxi trips?', 'Is there a link to the data dictionary for green taxi trips?', 'What is the resource link for yellow taxi trip records?', 'Can you provide the URL for the green taxi data dictionary?', 'Where should I look for details on yellow taxi trip data?']\n",
      "['How do I unzip a downloaded parquet file from the command line in Module 1?', 'What is the command to unzip green_tripdata_2019-09.csv.gz?', 'How can I import an unzipped CSV file using pandas?', 'What changes should I make in def main(params) to use parquet files in ingest_data.py?', 'How do I convert a downloaded .parquet file to a CSV in a Python script?']\n",
      "[\"How can I resolve the 'wget is not recognized as an internal or external command' error on a Mac?\", 'What is the best way to install wget on Windows?', 'Is there an alternative to wget that I can use with Python?', 'Can I download wget as a binary file on Windows and where should I place it?', 'How can I install wget on Ubuntu?']\n",
      "['What should I do if I encounter a certificate error when using wget on MacOS in a Jupyter Notebook?', 'How can I run wget in a Jupyter Notebook without certificate verification?', 'What are the steps to solve certificate verification issues with wget on MacOS?', 'How can I bypass certificate errors using wget on MacOS from CLI?', 'What is an alternative method to wget for downloading a URL with Python on MacOS?']\n",
      "['How can I use the backslash as an escape character in Git Bash for Windows?', 'What terminal command should I use to set the backslash as an escape character in Git Bash?', 'Is it necessary to include the bash.escapeChar setting in .bashrc for Windows?', 'What command does Alexey use for the backslash escape character in Git Bash?', 'How do I configure the backslash escape character in Git Bash without editing .bashrc?']\n",
      "['How do I store secrets in GitHub Codespaces?', 'Where can I find instructions on managing secrets in GitHub Codespaces?', 'What is the procedure for storing secrets for GitHub Codespaces?', 'Can you direct me to the documentation for managing account-specific secrets in GitHub Codespaces?', 'How can secrets be made available in GitHub Codespaces?']\n",
      "['How can I connect to the Docker daemon at unix:///var/run/docker.sock?', \"What should I do if the Docker daemon isn't running in Module 1?\", 'How do I fix the Docker connection error in Module 1?', 'What command should I use to update WSL in PowerShell?', 'What steps should I follow if Docker cannot connect to the daemon?']\n",
      "['What should I do if I encounter the error where the Docker client must be run with elevated privileges on Windows?', 'How can I enable the Hyper-V option on Windows 10 or 11 Pro to use Docker?', 'What is the backend option for running Docker if I am using Windows 10 Home or 11 Home?', 'Where can I find the instructions to install WSL2 on Windows 11?', 'What should I do if I encounter the WslRegisterDistribution error while installing WSL2?']\n",
      "[\"What happens when a 'docker pull' is performed either manually or by 'docker-compose up'?\", 'Are Docker images used in the Data Engineering Zoomcamp all public?', \"What might be the cause if I receive a 'requested access to the resource is denied' error during 'docker pull'?\", \"How can I resolve the error when encountering 'permission denied' while creating a PostgreSQL Docker container on macOS M1?\", 'What steps are required if a Docker image is under a private repository?']\n",
      "['How can I delete a local folder that is mounted to a Docker volume?', 'What issues might arise when creating a PostgreSQL container regarding folder permissions?', 'Why was I unable to delete a folder created by Docker using the regular method?', 'What command is used to forcibly remove a folder created by Docker?', 'What do the parameters `-r` and `-f` signify in the `rm` command?']\n",
      "[\"How can I upgrade Docker for Windows if the menu option to upgrade doesn't work?\", 'What should I do if Docker is stuck starting on Windows 10 or 11?', 'How can I switch Docker containers from Windows to Linux?', 'Which editions of Windows can run Docker using Hyper-V or WSL2 as backend?', 'Where can I find tutorials to enable Hyper-V or use WSL2 on Windows 10 or 11?']\n",
      "['Where should I run docker commands when using Windows subsystem for Linux?', 'What should I do if Docker is stuck even after setting up WSL2 or Hyper-V correctly?', 'Is it possible to run Docker on Windows 10 Home Edition, and how?', 'What can I try if resetting Docker to factory defaults does not solve my problem?', 'Can Docker be used with WSL2 on Windows 11 Home Edition and where can I find a tutorial?']\n",
      "['In which directory should I store my code to optimize file system performance on Docker?', \"Can you explain why it's better to store code in the default Linux distro when using Docker on WSL2 backend?\", 'What is the recommended filesystem location for Docker on Windows 10 Home or Windows 11 Home?', 'Where can I find more details about best practices for file storage in Docker?', 'Is there a documentation link that explains the best practices for Docker filesystem performance?']\n",
      "[\"Why am I getting the 'input device is not a TTY' error when running Docker commands on Windows?\", \"What should I do if I encounter the 'input device is not a TTY' error while using Docker on mintty?\", \"How can I avoid the TTY error when running 'docker run -it ubuntu bash' on Windows?\", 'Is there a way to configure Docker commands to always use winpty on Windows?', 'Can you provide a command to set up an alias for Docker to avoid TTY errors on Windows?']\n",
      "['What can I do if I cannot pip install on a Docker container in Windows?', 'What error message indicates a connection issue when using pip install in Docker on Windows?', 'How do I solve the temporary failure in name resolution error on Docker Windows?', 'What is a possible solution to connection issues using pip install in a Docker Python container?', 'Which DNS server can be used to fix pip install issues in Docker on Windows?']\n",
      "['What should I do if the ny_taxi_postgres_data folder is empty after running the Docker script in Module 1?', 'How can I make the files visible in the ny_taxi_postgres_data folder on VS Code for Windows?', 'What command should I use for Docker if the ny_taxi_postgres_data folder is empty on Windows?', 'How do I properly quote the absolute path in the -v parameter for Docker on Windows?', 'What environment variables should be set for the Docker run command in Module 1: Docker and Terraform?']\n",
      "['How can I set up Docker on a Mac?', 'Is the method in the article for setting up Docker on macOS up to date?', \"Did the change in Docker's licensing model affect the setup process?\", 'What is a reliable method to install Docker on macOS?', 'Where can I download the latest version of Docker for macOS?']\n",
      "['How can I resolve the error \\'Could not change permissions of directory \"/var/lib/postgresql/data\"\\' in Docker?', 'What command should I use to create a local Docker volume for PostgreSQL data directory?', 'How do I verify that a local Docker volume has been created and mapped correctly for PostgreSQL?', 'What is an alternative error related to the directory \"/var/lib/postgresql/data\" when initializing a database?', 'What should be done if the directory \"/var/lib/postgresql/data\" exists but is not empty during initdb?']\n",
      "[\"How can I resolve the 'invalid reference format' error when mounting volumes with Docker on Windows?\", 'What should I do if the way volume mapping is shown in the course video doesn’t work for me on Windows?', 'Why is it important to move my data to a folder without spaces for Docker volume mapping on Windows?', \"What alternative options can I try for the '-v' part in Docker volume mapping on Windows?\", 'Can using a volume name instead of a path help in resolving Docker volume mapping issues on Windows?']\n",
      "[\"How can I solve the Docker daemon error regarding 'invalid mode: \\\\Program Files\\\\Git\\\\var\\\\lib\\\\postgresql\\\\data'?\", \"What is the correct mounting path to resolve the Docker error 'invalid mode'?\", 'How do I configure the mounting path to avoid the error in Docker?', 'What changes need to be made to fix the Docker error linked to the Postgres data path?', \"What are the correct mounting path alternatives for Docker's Postgres data directory?\"]\n",
      "['What should I do if I get an error while creating buildmount source path when running a Docker command for the second time?', \"How can I avoid the 'file exists' error when using Docker with the same mount path on a second run?\", \"Why do I get a 'mkdir /run/desktop/mnt/host/c: file exists' error when running Docker again?\", \"What's the proper Docker command to use the second time to avoid mounting issues?\", 'What changes should I make to my Docker run command after facing an error on a second execution?']\n",
      "[\"What is the solution to the Docker build error regarding 'can't stat' on '/home/user/repos/data-engineering/week_1_basics_n_setup/2_docker_sql/ny_taxi_postgres_data'?\", 'Why did the Docker build -t taxi_ingest:v001 command raise a permission issue?', 'Which files are needed to fix the Docker build error in the given error context?', 'How can I change the permission of the directory on Ubuntu to resolve the Docker context error?', \"Where can I find a more complete explanation of the Docker build error regarding 'can't stat' on my directory?\"]\n",
      "['I encountered the error waiting for container: context canceled in Docker. What should I check first?', \"What could be wrong if 'sudo snap status docker' returns an unknown command error?\", \"What is a possible cause for the 'context canceled' error when waiting for a Docker container?\", \"If Docker was installed via snap and shows an 'unknown command status' error, what should I do next?\", \"What initial steps should I take if 'Bind for 0.0.0.0:5432 failed' occurs in Docker?\"]\n",
      "['What might cause a Docker build error when checking context for ‘ny_taxi_postgres_data’?', 'Why does the folder seem empty during a Docker build on PopOS?', 'What is the solution to fix Docker build errors related to folder permissions?', 'How do I change permissions for a folder to solve a Docker build issue?', 'What command can I use to add permissions to the ‘ny_taxi_postgres_data’ folder?']\n",
      "[\"Why do I get a 'permission denied' error when trying to run the Docker build command again?\", \"What causes the 'failed to solve with frontend dockerfile.v0' error on Ubuntu/Linux?\", \"How can I resolve the 'failed to read dockerfile: error from sender' issue when building a Docker container?\", \"Why does the 'open ny_taxi_postgres_data: permission denied' error occur during Docker build?\", 'What command should I use to grant permissions to the new folder created during Docker build?']\n",
      "['How do I obtain the name of a Docker network?', 'What command lists Docker networks?', 'Can you tell me how to see available Docker networks?', 'How do I view network names in Docker?', 'Which command allows me to see Docker network names?']\n",
      "[\"I am getting a conflict error with the message 'container name pg-database is already in use' when restarting my Docker image. What should I do?\", \"What command should I use if I encounter a conflict error because the container name 'pg-database' is already in use by another container?\", \"How can I resolve the error that my Docker container 'pg-database' is already in use when I try to restart it?\", \"What steps should I take to fix the error 'Conflict. The container name pg-database is already in use' when using Docker?\", 'What alternative command can I use to restart my Docker image without removing the existing container if I get a conflict error?']\n",
      "['What is a common error when running Docker-compose related to hostname translation?', \"How can I resolve the error 'pgdatabase could not translate host name to address' when using docker-compose?\", 'What command should I use to see which network is created when running docker-compose up?', 'What network name might replace pg-network in a docker-compose setup?', 'What database name might be used instead of pgdatabase in a docker-compose configuration?']\n",
      "['What command should I run before starting my VM to install Docker on a MacOS/Windows 11 VM running on Linux with an Intel CPU?', 'How can I enable nested virtualization on an AMD CPU for Docker installation in a VM?', 'How do I resolve issues installing Docker on a Windows 11 VM due to nested virtualization?', 'What are the specific steps for setting up nested virtualization for Docker on a VM with an Intel processor?', 'What steps are required to configure nested virtualization on a MacOS VM with an AMD CPU?']\n",
      "['How can I manage my Docker container from VS Code?', 'What steps do I need to follow to install Docker extension in VS Code?', 'Does VS Code work with Docker running on WSL2?', 'What command should I use to stop a Docker container?', 'Can VS Code connect with Docker on Linux?']\n",
      "[\"What should I do if my PostgreSQL container shows 'Database system is shut down' in the logs?\", 'How can I fix the issue when my PostgreSQL container is not accepting any requests?', \"What does 'server closed the connection unexpectedly' mean in a PostgreSQL container?\", 'Why might my PostgreSQL server have terminated abnormally before processing a request?', 'How do I resolve a failure to connect to my PostgreSQL container due to a database system shutdown?']\n",
      "['How can I install Docker on certain Ubuntu versions?', 'What command do I use to install Docker via snap?', 'Are there specific Ubuntu versions that require the snap command to install Docker?', 'Is there an alternative way to install Docker on Ubuntu if traditional methods fail?', \"What's the snap installation command for Docker?\"]\n",
      "['What should I do if I encounter a permission error when mounting a directory in Docker-Compose?', 'How can I define a named volume in my Docker-Compose file?', 'What command can I use to inspect the details of a Docker volume?', 'How do I fix the issue of a newly created mounting directory in Docker-Compose?', 'What steps should I follow to ensure my existing data volume is used correctly in Docker-Compose?']\n",
      "['What should I do if I encounter an error translating the host name to an address in Docker-Compose?', 'How can I ensure my PostgreSQL database is running when using Docker-Compose?', 'Which command should I use to start all the containers in detached mode?', 'How can I view the logs for a specific container in Docker?', \"What command should I run if 'docker ps' doesn't show my pg-database container running?\"]\n",
      "['What should I do if Docker Compose creates its own default network and I receive a host name error?', \"How can I address the issue of losing database data and encountering the 'could not translate host name' error?\", 'Where can I find the new network name created by Docker Compose?', 'What steps should I take if I encounter problems with pgcli?', 'If I am unable to execute the Ingestion script successfully, what alternative tools can I use?']\n",
      "['What should I do if Docker-Compose returns a network not found error?', 'How can I see all the stopped and running Docker containers?', 'What command should I use to restart Docker-Compose with specific ports?', \"What does the error 'could not translate host name to address' mean and how can I fix it?\", 'How should I configure docker-compose.yml to specify a docker network for both containers?']\n",
      "['What is a common issue when running docker-compose on GCP regarding PGAdmin data persistence?', 'What path is typically mentioned for PGAdmin volumes that might not work?', 'How can Docker Volume be used to ensure data persistence for PGAdmin on GCP?', 'What changes should be made in the docker-compose file to use Docker Volume for PGAdmin?', \"What keyword is used under the 'volumes' section to persist PGAdmin data on GCP?\"]\n",
      "['What should I do if my Docker engine keeps crashing continuously?', 'How can I fix the issue of Docker engine stopping and failing to fetch extensions?', 'What steps can be taken if Docker is not working after a restart?', 'How do I resolve Docker crashing and showing constant error pop-ups?', 'What is the final solution if updating Docker does not fix the issue?']\n",
      "['How can I keep the server name persistent in pgAdmin with Docker-Compose?', 'Which directory should be mounted as a volume to save pgAdmin sessions?', 'What environment variables are required for pgAdmin in Docker-Compose?', 'How do I grant the pgAdmin container write access to the mounted volume?', 'What is the required user and group ID for pgAdmin in the Docker container?']\n",
      "['What should I do if I encounter a permission denied error when using Docker-Compose?', 'How can I resolve the issue where Docker-Compose gives a dial unix /var/run/docker.sock error?', 'What steps should I follow if I did not create the docker group and added my user?', 'How can I maintain the state of pgAdmin to remember previous connections?', 'How do I create a volume for pgAdmin to save my database connection settings?']\n",
      "[\"Why isn't docker-compose available after updating .bashrc?\", 'Can you explain the issue with docker-compose after following video 1.4.1?', \"What should I do if docker-compose isn't working on my Google Cloud VM?\", 'Why is the docker-compose file named docker-compose-linux-x86_64?', 'How can I make it more convenient to use docker-compose instead of the downloaded file?']\n",
      "['What command can solve the error getting credentials when running docker-compose up -d?', 'How can I fix the Docker-Compose credential error?', 'Which package should I install to resolve the docker-compose up -d error?', 'Where can I find more information about the Docker-Compose credential error?', 'What helped to solve the error after running docker-compose up -d?']\n",
      "['What should I do if I encounter errors with docker-compose.yml and pgadmin setup in Module 1?', 'How do I create a new volume in Docker?', 'What changes should I make to my docker-compose.yml file to fix issues?', 'How can I ensure better tracking of my data ingestion process in Jupyter?', 'What is the correct order of execution for setting up Docker and PgAdmin in Module 1?']\n",
      "['Where do I find the config.json file for Docker?', 'How do I fix the error \\'exec: \"docker-credential-desktop\": executable file not found in %PATH%\\'?', 'What changes should I make in the config.json file to fix credential errors?', 'What should I do after modifying the credsStore in config.json?', 'Can you guide me to correct the Docker Compose up -d credential error?']\n",
      "['How do I determine which docker-compose binary to download for WSL?', 'Where can I download the appropriate docker-compose binary for my system?', \"What commands should I use to check my system's compatibility with docker-compose?\", 'What is the command to download docker-compose for WSL directly?', 'Which website should I visit to find docker-compose releases?']\n",
      "['How can I resolve an error regarding an undefined volume in Docker-Compose on Windows/WSL?', \"What should I do if my Docker-Compose file mentions an undefined volume 'dtc_postgres_volume_local'?\", \"Why am I seeing an error about an invalid compose project related to 'pgdatabase'?\", \"How can I correct the service 'pgdatabase' referring to an undefined volume in my Docker-Compose file?\", \"Where should I add the volumes section to fix an error with 'dtc_postgres_volume_local' in Docker-Compose?\"]\n",
      "['What should I use to resolve directory permissions errors in WSL Docker when using the Windows file system?', 'Why is it recommended to use Docker volumes instead of the local drive in WSL Docker setups?', \"Is the 'user:' parameter necessary when defining Docker volumes for postgres and pgadmin services?\", 'How does using Docker volumes help with better management in a WSL Docker setup?', 'Can you provide an example of docker-compose.yaml configuration with proper volume usage for postgres and pgadmin services in WSL Docker?']\n",
      "['What should I do if pgadmin is not working for querying in Postgres?', 'What can cause pgadmin to not function properly on Windows?', 'What libraries are required for pgadmin to work on Windows?', 'Is there an alternative to pgadmin for querying in Postgres?', 'How do I install the psycopg2 library for querying in Postgres?']\n",
      "[\"What causes the 'WSL - Insufficient system resources exist to complete the requested service' error in Module 1: Docker and Terraform?\", \"How can I update the Windows Terminal to resolve the 'WSL - Insufficient system resources exist to complete the requested service' issue?\", \"What specific updates should I check for to resolve the 'WSL - Insufficient system resources exist to complete the requested service' error?\", 'What steps should I follow to update Windows security updates for solving the WSL error?', 'Why is it necessary to restart the system after updating Windows Terminal and security updates to fix the WSL issue?']\n",
      "['What should I do if WSL integration with Ubuntu stops unexpectedly with exit code 1?', 'How can I fix a DNS issue causing WSL integration problems on Windows?', 'What command do I use to restart the DNS cache service in Windows for WSL issues?', \"What should I do if switching to Linux containers in Docker doesn't solve the WSL issue?\", 'Why am I seeing messages about an uninitialized database and a missing superuser password?']\n",
      "[\"What should I do if I'm getting an error when trying to run the GPC VM through SSH with WSL2?\", 'How can I use sudo to fix permission issues with SSH keys in WSL2?', 'How do I change permissions for the private key SSH file in WSL2?', 'What steps should I follow if creating a .ssh folder in the WSL2 home directory?', 'How do I copy the SSH keys from the Windows .ssh folder to the WSL2 .ssh folder?']\n",
      "['How can I fix the WSL2 issue with resolving the host name in Module 1?', 'What steps should I follow to create a config file for WSL2 in Docker and Terraform?', 'Where should I create the .ssh directory for resolving host issues in WSL2?', 'What information should be included in the WSL2 config file for Docker and Terraform?', 'Why might WSL2 not reference the correct .ssh/config path from Windows?']\n",
      "['How can I resolve PGCLI connection failed issue on port 5432?', \"What should I do when I see the error 'connection failed: :1), port 5432 failed' in PGCLI?\", 'How do I change the connection to use a socket in PGCLI when facing connection issues?', \"What command should I use to connect to the database 'ny_taxi' in PGCLI?\", 'How can I fix SSL negotiation packet rejection error in PGCLI on port 5432?']\n",
      "['What should I do if I encounter an error using PGCLI --help?', 'Why might I get an error when running PGCLI --help?', 'How can I resolve an installation error with PGCLI?', \"What steps should I take if PGCLI --help isn't working?\", 'What could be causing PGCLI --help to fail?']\n",
      "['Do we need to run pgcli inside another Docker container for Module 1?', 'Can I access the postgres database using pgcli from my computer?', 'Is it necessary to map port 5432 for pgcli to function in this course?', 'Will my local system suffice for running pgcli for Module 1?', 'How do I access the postgres database if port 5432 is mapped to my computer?']\n",
      "[\"How can I resolve a 'FATAL: password authentication failed for user root' error in PGCLI when I already have Postgres installed locally?\", 'What should I do if I encounter a local Postgres installation conflict during Docker container creation?', 'How do I connect to my Postgres Docker container using pgcli after changing the default port?', 'Is there a visual explanation for handling port mapping and networks in Docker?', 'How can I determine if a port is being blocked by an application on MacOS?']\n",
      "['How do I fix the PermissionError when I try to use PGCLI?', 'What does the PermissionError: [Errno 13] indicate when using PGCLI?', 'What should I do if I encounter a PermissionError while running pgcli on localhost?', \"Why do I get a 'Permission denied' error for '/Users/vray/.config/pgcli'?\", 'How can I install PGCLI without affecting my system python?']\n",
      "['How do I resolve the ImportError: no pq wrapper available in the Docker and Terraform module?', 'What is the prerequisite Python version required to solve the psycopg2-binary installation issue in Module 1?', 'What should I do if my current Python version is lower than 3.9 when facing the ImportError: no pq wrapper available?', 'What are the steps to install the necessary libraries for PostgreSQL in Module 1?', 'Is there an alternative solution to fix the psycopg binary import issue in the Docker and Terraform module?']\n",
      "['What should I do if my Bash prompt is stuck on the password command for postgres?', 'How can I resolve the FATAL: password authentication failed for user \"root\" error encountered while using PGCLI?', 'What are possible solutions if the FATAL: password authentication failed error persists even with the correct password?', 'What might be the cause of the FATAL: password authentication failed error after using the Docker command for Postgres:13?', 'Can you suggest an alternative terminal to avoid being stuck on the password prompt for postgres?']\n",
      "['What should I do if pgcli is not recognized by bash after installation?', \"How can I solve the 'pgcli: command not found' error on Windows Terminal?\", 'Where can I find the location of pgcli for adding it to Windows PATH?', 'What steps should I take if Python is installed in a different directory than the default?', 'Where should I add the Python path to make pgcli recognizable in the system?']\n",
      "['What can I do if running pgcli locally causes issues?', 'Is it possible to use pgcli in a Docker container instead of installing it locally?', 'What network name should I use for running pgcli in Docker according to the course?', 'What are the postgres related variables required to run pgcli in a Docker container?', 'How do I connect to the database using pgcli in the provided Docker container example?']\n",
      "['Why do I need to use quotations for column names like PULocationID in PGCLI?', \"What happens if I don't use quotations around columns with capital letters in PGCLI?\", 'Why is PULocationID not recognized without quotations in PGCLI?', 'Are local identifiers without quotations case insensitive in PGCLI?', 'Where can I find more information about the case sensitivity of local identifiers in PGCLI?']\n",
      "[\"How do I resolve the PGCLI error 'column c.relhasoids does not exist'?\", \"What steps should I follow if I encounter the error 'c.relhasoids does not exist' in PGCLI?\", \"What does the error 'c.relhasoids does not exist' in PGCLI mean?\", \"What should I do if reinstalling PGCLI doesn't fix the 'c.relhasoids does not exist' error?\", \"Is there a way to prevent the 'c.relhasoids does not exist' error in PGCLI?\"]\n",
      "['What should I do if I encounter a FATAL password authentication failed error when connecting to Postgres in Jupyter Notebook in Module 1?', 'Why might port 5432 be unavailable for Postgres while working in Docker and Terraform?', 'If I am not able to connect to Postgres using port 5432, which port should I use instead?', 'How can I resolve the issue if I am still facing the connection error after changing the port from 5432?', 'What service might be interfering with my Postgres connection, and how can I resolve it?']\n",
      "[\"What should I do if I get a FATAL: role 'root' does not exist error while using pgcli?\", 'How can I change the port to resolve a connection failure with Postgres on localhost?', 'Is there a way to check if a root user exists and has the ability to login in Postgres?', \"What alternative user credentials can resolve the FATAL: role 'root' does not exist error in Docker Compose?\", \"How do I restart Docker Compose after removing the folder containing the Postgres volume to fix the role 'root' issue?\"]\n",
      "[\"What should I do if my database 'ny_taxi' does not exist when trying to connect to Postgres?\", 'How can I verify if postgres is running after I encounter a connection error to localhost?', 'What is the recommended action if I already have postgres installed and my docker instance conflicts with port 5432?', 'In which directory can I find the psycopg2 module that handles Postgres connection errors?', \"What error message indicates that my connection to the database 'ny_taxi' has failed?\"]\n",
      "[\"How can I resolve the ModuleNotFoundError: No module named 'psycopg2' error?\", 'What should I do if installing psycopg2-binary does not solve the ModuleNotFoundError?', 'How do I update conda to potentially fix the psycopg2 module error?', 'What steps should I follow to update pip before installing the psycopg2 package?', 'What can I do if I receive a pg_config not found error when trying to use psycopg2?']\n",
      "[\"What should I do if I get a 'column does not exist' error in Pyscopg2 on a MacBook Pro M2 while using Postgres?\", \"How can I avoid the 'column does not exist' error in join queries in Postgres with Pyscopg2?\", \"Why does enclosing column names in single quotes throw a 'column does not exist' error in join queries?\", \"What is the solution for the 'column does not exist' error when running join queries with Pyscopg2 on a MacBook Pro M2?\", 'Which type of quotes should be used to enclose column names to avoid errors in join queries in Postgres?']\n",
      "['Is there an alternative to the pgAdmin Create server dialog?', \"What's causing the pgAdmin Create server dialog not to appear?\", 'How can I add a server in the latest version of pgAdmin?', 'What should I do if the Create server dialog is missing in pgAdmin?', 'How do I register a server in the new version of pgAdmin?']\n",
      "['Why do I see a blank screen after logging into pgAdmin when using GitHub Codespaces in the browser?', 'What error message appears in the pgAdmin container terminal when encountering a blank screen issue?', 'How can setting an environment variable help resolve the blank screen issue in pgAdmin?', 'What modifications need to be made to the Docker run command to resolve the pgAdmin blank screen issue?', 'Does using a locally installed VSCode to display GitHub Codespaces prevent the pgAdmin blank screen issue?']\n",
      "[\"How can I fix the issue where I can't access the PgAdmin address via my browser on a Mac Pro device?\", 'What modifications should I make to the docker run command to successfully run the PgAdmin container?', 'How should I modify the docker-compose.yaml file to access PgAdmin?', \"What should I do if I encounter a ModuleNotFoundError for 'pysqlite2' when using Python?\", 'How can I resolve the ImportError related to the missing sqlite3.dll in Anaconda?']\n",
      "[\"What should I do if I'm missing 100000 records when running the ingestion script in Jupyter notebook in Module 1?\", \"If I follow Alexey's steps in video 1.2.2, will I ingest all the data into the yellow_taxi_data table?\", 'Why am I missing the first chunk of records when running the whole script in Jupyter notebook a second time from the top?', 'What specific cell should be removed to prevent missing 100000 records when running the Jupyter notebook again?', 'Is the notebook intended to be run top to bottom in Module 1?']\n",
      "['How can you iterate through a CSV file in Python without error?', 'What command is used to unzip gzip files on Ubuntu?', 'Which library is recommended for reading CSV files in Python?', 'Is there a need to install additional software to unzip gzip files on Ubuntu?', 'Why might it be preferable to keep the CSV file uncompressed?']\n",
      "['How can Pandas interpret string column values as datetime directly while using pd.read_csv?', 'What parameter should be used with pd.read_csv to parse dates directly from CSV?', 'Can you provide an example of parsing dates with pd.read_csv from week 1?', 'Which library allows direct conversion of string values to datetime when reading CSV files in Module 1?', 'What is the output structure when parsing dates with pd.read_csv as shown in Module 1?']\n",
      "['How can I use Python to download data from a GitHub link?', 'What command should I use in Python to fetch data from a URL?', 'How can I save data from a URL to a CSV file in Python?', 'What is the Python script to download a file from GitHub?', 'How do I use curl in a Python script to download data?']\n",
      "['What file extension is used for Gzip compressed CSV files?', 'How do you read a Gzip compressed CSV file with Pandas?', 'Which function in Pandas is designed to read CSV files?', 'What parameters does the read_csv() function accept?', 'Can you provide an example of reading a Gzip compressed CSV file using Pandas?']\n",
      "{'question1': 'How can I iterate through and ingest a parquet file using PyArrow in Python?', 'question2': 'Is there an easy way similar to panda’s read_csv method to set chunksize for parquet files?', 'question3': 'What Python library is recommended for handling parquet files?', 'question4': 'What code snippet can be used to clear a PostgreSQL table before ingesting data from a parquet file?', 'question5': 'How can I know the number of rows in a parquet file using PyArrow?'}\n",
      "[\"What raises the ImportError 'TypeAliasType' in the Jupyter notebook?\", \"How can the 'TypeAliasType' ImportError be fixed?\", \"Which Python module version resolves the ImportError 'TypeAliasType'?\", \"What command allows the update of 'typing_extensions' via pip?\", \"During which module is the 'TypeAliasType' ImportError discussed?\"]\n",
      "['What is the correct connection string format to avoid the TypeError in SQLAlchemy?', \"How do I fix the 'module' object is not callable error when using create_engine?\", \"What should I use instead of 'postgresql' in the connection string to prevent a TypeError?\", 'Can you show me an example of a working connection string for PostgreSQL in SQLAlchemy?', 'What is the proper way to set up a SQLAlchemy engine for a PostgreSQL database?']\n",
      "['What should I do if I get a ModuleNotFoundError for psycopg2 in Jupyter?', \"How do I resolve the 'No module named psycopg2' error?\", 'What is the solution if my Jupyter notebook raises an error for psycopg2?', 'Which Python module do I need to install to fix a missing psycopg2 error?', 'What command should I use to install the psycopg2 module?']\n",
      "['How can I add the Google Cloud SDK PATH to Windows if the installer fails to do it automatically?', 'What should I do if I am constantly unable to update my system PATH for Google Cloud SDK on Windows?', 'Is there a way to use conda to help add Google Cloud SDK PATH to Windows?', 'Do I need to install Gitbash to properly update the Google Cloud SDK PATH on Windows?', 'How can I set Gitbash as the default terminal on Windows?']\n",
      "{'questions': [\"How do I fix the error 'Requested entity already exists' when creating a project in GCP?\", 'Why am I getting an HttpError 409 during project creation in GCP?', 'What does the error code 409 mean in the context of GCP project creation?', 'How unique does a GCP project ID need to be?', 'What should I do if the project ID I want to use is already taken in GCP?']}\n",
      "['What should I do if I get an error saying the project to be billed is associated with an absent billing account?', 'Where can I find my unique project ID required for the GCP billing setup?', 'What are the steps to resolve the error related to an absent billing account for my project?', 'Who provided the information about resolving billing issues in Module 1?', 'What might be the reason for receiving an accountDisabled error message on GCP?']\n",
      "['What should I do if my credit/debit card is declined during the GCP free trial?', 'Is it likely that Google Cloud support will resolve my account suspension issue?', \"Can you recommend an alternative card for setting up a Google Cloud free trial if mine doesn't work?\", 'What card did you find successful for a GCP free trial after an initial failure?', 'Is Pyypl a viable option for Google Cloud free trial issues with credit/debit cards?']\n",
      "['Where is the ny-rides.json file located in Google Cloud Platform?', 'How do I add a key in Google Cloud Platform for my instance?', 'Which tab in IAM & Admin do I need to find to add the ny-rides.json key?', 'Can you explain the steps to create ny-rides.json in GCP?', 'What type of key should I select when creating the ny-rides.json file?']\n",
      "['Should I delete my instance in Google Cloud as demonstrated by Alexey in Module 1?', 'Is it necessary to delete the Google Cloud instance after finishing the lecture in Module 1?', 'Do I need to perform instance deletion in Google Cloud for the week 1 readings?', \"If I follow Alexey's steps, should I also delete my Google Cloud instance?\", 'Am I required to delete my instance in Google Cloud at any point during Module 1?']\n",
      "['How can I show real-time information about system resource usage, including CPU and memory?', 'What command should I use to list all running processes with detailed information?', 'What commands can be used to display network interface configurations and active network connections?', \"Which commands provide information about my system's CPU, disks, and overall hardware configuration?\", 'How can I list all installed packages on my Ubuntu or Debian-based system?']\n",
      "['What should I do if I receive a Billing account error even after setting it up correctly?', 'How can I resolve the 403 error related to Billing not being enabled for my project?', 'What is the URL to enable billing for a Google Cloud project?', 'What default table expiration time setting is mentioned in the Billing-related error message?', 'What troubleshooting step did you take when you encountered the billingNotEnabled error?']\n",
      "['What should I do if I face issues installing the Google Cloud SDK on Windows?', \"How can I fix the 'quota exceeded' or 'API not enabled' error for Google Cloud SDK?\", 'What steps should I follow to reinstall the Google Cloud SDK on Windows?', 'How can I resolve the issue of GCP having no resources when starting my Virtual Machine?', 'What changes should be made when creating a new VM instance from an image in GCP?']\n",
      "['Is it necessary to use a GCP VM for this course?', 'What is the benefit of using my own environment over a GCP VM?', \"Why can't I commit changes directly from the GCP VM?\", 'Why was a video about the GCP VM included in the module?', 'Can I work in a GitHub repo if I use my own environment?']\n",
      "['Where should I create the .ssh directory in GCP VM?', \"What does 'Permission denied' mean when creating a directory in GCP VM?\", \"Why can't I create the .ssh directory in the root folder?\", 'Where is the recommended location for creating .ssh directory in the local environment?', 'Is there a video that explains how to create the .ssh directory in the correct location in GCP VM?']\n",
      "['What should I do if I encounter a permission denied error while saving a file in a GCP VM via VS Code?', 'How can I resolve an EACCES permission denied error when opening files in VS Code on a GCP VM?', 'What command can I use to change the owner of files in a GCP VM when using VS Code?', 'How do I fix a NoPermissions FileSystemError in VS Code while working on a GCP VM?', 'What steps should I take to change file ownership to resolve saving issues in VS Code on a GCP VM?']\n",
      "['How can I fix a connection request timeout for my GCP VM in Module 1?', 'What should I do if my SSH connection to a GCP VM worked last week but times out this week?', \"What's the solution for timing out when connecting to a GCP VM in Module 1?\", 'If my GCP VM connection times out, where should I paste the External IP?', 'How do I update the ~/.ssh config file to resolve a GCP VM connection timeout in Module 1?']\n",
      "['How can I connect to the host port 22 if there is no route in GCP VM?', 'What steps should I follow to edit my VM for SSH access in GCP?', 'Where do I need to add the startup script when editing my GCP VM?', 'What should the startup script contain to allow SSH access in GCP VM?', 'What action should I take after adding the startup script to the GCP VM?']\n",
      "['How can I forward ports of pgAdmin, postgres, and Jupyter Notebook without using VS Code?', 'What command should I run on the VM machine for port forwarding?', 'What ssh command allows me to access pgAdmin on my local machine?', 'How can I access Jupyter Notebook from my local machine after forwarding the ports?', 'What should I do if I encounter credential problems while accessing Jupyter Notebook?']\n",
      "['What should I do if gcloud auth hangs using MS VS Code in WSL2?', 'How do I resolve the error message on the gcloud login page?', 'What happens when I first try to login to GCP via gcloud cli?', 'How do I make the gcloud auth login page appear via default browser?', 'What should I do after hovering on the long link during gcloud auth?']\n",
      "[\"I am using Terraform and encountering an error that says 'Failed to query available provider packages', why is this happening?\", \"While using Terraform, I received a message stating 'could not retrieve the list of available versions for provider hashicorp/google', what should I do?\", \"What does the error 'failed after 2 attempts, please try again later' mean when using Terraform?\", 'How should I resolve an internet connectivity error that is preventing Terraform from accessing the online registry?', 'When Terraform cannot query the provider registry, should I check my VPN and Firewall settings or perform some other action?']\n",
      "[\"Why am I getting an i/o timeout error when running 'terraform apply'?\", 'What should I do if Google is not accessible in my country for Terraform operations?', 'Why does the terminal program not automatically follow the system proxy settings?', 'How can I resolve a token fetch error with Terraform?', \"What is the solution if 'terraform apply' fails due to network issues?\"]\n",
      "['Where can I find instructions to install Terraform for WSL?', 'How do I configure Terraform on Windows 10 with WSL?', 'Is there a guide to set up Terraform for Linux Subsystem on Windows?', 'Can you provide a link to install Terraform on WSL?', 'Where is the tutorial for configuring Terraform on Windows Subsystem for Linux?']\n",
      "{'questions': ['How do I troubleshoot an error acquiring the state lock in Terraform?', 'Where can I find information on resolving state lock issues in Terraform?', 'What should I do if I encounter a state lock error in Terraform?', 'Is there a reference for handling the state lock error in Terraform?', \"Can you direct me to a resource for fixing Terraform's state lock problem?\"]}\n",
      "['How can I resolve the Error 400 Bad Request related to an invalid JWT token when using Terraform on WSL?', 'What is the cause of the invalid JWT Token error I encounter during terraform apply on WSL2?', 'What command can synchronize my machine’s time to fix the JWT token error in Terraform?', \"Why do I get an 'invalid_grant' error description when running Terraform apply on WSL2?\", 'How does a time desynchronization on a machine affect JWT tokens when using Terraform?']\n",
      "['What should I do if I get a 403 error with Terraform?', \"How do I fix the 'Access denied' error in Terraform?\", 'What does the googleapi 403 error indicate in Terraform?', 'How can I correct my GOOGLE_APPLICATION_CREDENTIALS for Terraform?', 'What command should I run to activate the service account in gcloud?']\n",
      "['Should I create multiple service accounts for different services in Terraform?', 'Is one service account sufficient for all services in this course?', 'After obtaining the service account credentials file, what is the next step?', 'Do I need separate service accounts for each resource in this course?', 'Can I use a single environment variable for all services in Terraform?']\n",
      "['Where can I download Terraform 1.1.3 for Linux AMD64?', 'Is there a direct link to Terraform 1.1.3 Linux version?', 'Where can I get the Terraform 1.1.3 package for Linux?', 'How do I obtain Terraform 1.1.3 for Linux (AMD 64)?', 'Can you provide the download link for Terraform 1.1.3 Linux AMD64?']\n",
      "[\"What causes the 'Terraform initialized in an empty directory' message?\", \"Why do you need to navigate to the working directory before running 'terraform init'?\", \"Is it possible to run 'terraform init' outside the directory containing Terraform configuration?\", \"What should be done before running 'terraform init'?\", \"What does the 'Terraform initialized in an empty directory' error indicate?\"]\n",
      "['What causes the `Error creating Dataset: googleapi: Error 403: Request had insufficient authentication scopes` in Terraform?', 'How do I resolve the `googleapi: Error 403: Access denied.` error in Terraform?', 'What steps should I follow if I encounter the `Error creating Dataset` due to insufficient authentication scopes in Terraform?', 'What should I do if I get an authentication error in Terraform?', 'How can I set the GOOGLE_APPLICATION_CREDENTIALS to fix authentication errors in Terraform?']\n",
      "['What should I do if I get a 403 error when creating a bucket in Terraform?', 'How can I fix the permission denied error for storage.buckets.create in Google Cloud?', 'What does the googleapi: Error 403 signify in Terraform when creating a bucket?', 'Why do I receive a permission denied message on storage.buckets.create in Terraform?', 'How do I resolve the forbidden error message in Terraform for bucket creation?']\n",
      "['How can I ensure the sensitivity of the credentials file in my Terraform configuration?', 'What code snippet should I use to input the credentials file in Terraform for Google provider?', 'Which attribute do I need to include in my file path for the credentials in Terraform?', 'Where do I specify the project and zone in my Terraform configuration for Google Cloud?', 'Do I need to manually input the credentials file for Google Cloud in Terraform, and if so, how?']\n",
      "[\"Why does the query SELECT * FROM zones_taxi WHERE Zone='Astoria Zone'; return an error?\", 'How can I fix the error when querying a column starting with an uppercase letter?', \"Why does SELECT * FROM zones_taxi WHERE Zone='Astoria Zone'; not retrieve any results?\", 'What should I do if the column name in my dataset has uppercase letters?', \"Is there an 'Astoria Zone' in the dataset for the zones table?\"]\n",
      "[\"How can I avoid errors with column names like 'Zone' in SQL queries from taxi_zones?\", 'What should I do to ensure case consistency when importing data into a database using Pandas?', 'Why is it better to put all data in lowercase when using Pandas and SQL together?', 'What code should I add after reading a CSV in Pandas to handle case sensitivity for columns?', \"How can I correct the error 'Column Zone doesn't exist' in SQL when working with taxi_zones?\"]\n",
      "[\"What could cause the error 'curl: (6) Could not resolve host: output.csv'?\", \"How can Mac users solve the error 'curl: (6) Could not resolve host: output.csv'?\", \"What command should Mac users run to fix 'Could not resolve host: output.csv'?\", 'What solution is suggested for Mac users facing the error with CURL?', \"Can you provide a code example to resolve 'curl: (6) Could not resolve host' for Mac?\"]\n",
      "['Where should my config file be located to resolve the SSH Error in Docker and Terraform?', \"What is causing the SSH Error stating 'Could not resolve hostname linux'?\", \"How can I fix the 'Name or service not known' SSH Error in Module 1?\", 'What directory should the SSH config file be in to resolve hostname issues?', 'Which path is recommended for the SSH config file in the Docker and Terraform module?']\n",
      "[\"What should I do if 'pip' is not recognized as an internal or external command while using Anaconda for the course?\", 'How can I add Anaconda to my PATH on Linux or MacOS?', 'What are the steps to add Anaconda to my PATH on Windows using GitBash?', 'What is the process to add Anaconda to the PATH on Windows without Git Bash?', 'Why do I need to restart the terminal or command prompt after adding Anaconda to the PATH?']\n",
      "[\"How do I resolve the error 'error starting userland proxy: listen tcp4 0.0.0.0:8080: bind: address already in use'?\", \"What should I do if I get 'error response from daemon: cannot stop container: permission denied' when stopping a Docker container?\", \"How can I fix the 'cannot import module psycopg2' error?\", \"What steps should I follow to resolve 'docker build Error checking context: can't stat <path-to-file>'?\", \"What's the command for installing psycopg2 on Linux?\"]\n",
      "['How can I create a pip-friendly requirements.txt file from Anaconda?', 'What command should I avoid when generating a requirements.txt file for pip from Anaconda?', 'What could happen if I use pip freeze > requirements.txt for Anaconda?', 'What is the correct command sequence to convert Anaconda packages to a pip-friendly format?', \"Why doesn't conda list -d > requirements.txt generate a suitable file for pip?\"]\n",
      "[\"Where can I find previous cohorts' FAQ for the Prefect orchestration module?\", 'Where is the FAQ document from previous cohorts for Airflow?', 'Is there a link to the Prefect FAQ from former students?', 'How do I access the Airflow FAQ from earlier cohorts?', 'Can you share the FAQ links for Prefect and Airflow used by past cohorts?']\n",
      "['What could cause Docker containers to exit instantly with code 132?', 'What does the Mage documentation say about code 132 errors?', 'Can a hardware issue be the reason for Docker containers exiting with code 132?', \"Is there a possible solution if my computer's architecture is outdated when using Docker?\", 'What operating system and Docker version was the student with the code 132 issue using?']\n",
      "['What can cause unexpected kernel restarts in Module 2 if using WSL 2?', 'How do I check if my WSL config file exists in module 2 workflow orchestration?', 'What command do I use to shutdown WSL after editing the config file in module 2?', 'Why should I dedicate at least two CPU cores to Docker in WSL 2?', 'What steps should I follow to edit or create the .wslconfig file?']\n",
      "['How can I configure Postgres in Module 2?', 'Where can I find the solution to the Postgres configuration issue in Module 2?', 'What should I do if I encounter an issue configuring Postgres?', 'Is there a link to troubleshoot Postgres configuration in Module 2?', 'Where can I get help for Postgres configuration in the Workflow Orchestration module?']\n",
      "['What should I check if I get an OperationalError related to port 5431 in module 2?', 'How do I resolve a psycopg2 OperationalError when connecting to localhost on port 5431?', 'Which port should the POSTGRES_PORT variable be set to in the io_config.yml file?', 'Is the POSTGRES_PORT variable meant to match the host port or the mage container port?', \"Does POSTGRES_PORT need to be set to 5431 if there's a conflicting postgres installation on the host machine?\"]\n",
      "['Why does executing SELECT 1; in MAGE - 2.2.4 result in a KeyError?', 'What might I have forgotten if a KeyError occurs when running SELECT 1; in Module 2: Workflow Orchestration?', 'What should I check if I get a KeyError using PostgreSQL in MAGE - 2.2.4?', 'How can I fix a KeyError in MAGE - 2.2.4 when executing a simple SELECT statement?', 'What could be causing a KeyError in MAGE - 2.2.4 during workflow orchestration?']\n",
      "['How do I resolve a MAGE -2.2.4 ConnectionError related to a timeout?', 'What should I update to fix the MAGE -2.2.4 ConnectionError involving a TimeoutError?', 'What does it mean if I receive a 404 NotFound error when testing BigQuery connection in MAGE - 2.2.4?', 'How can I fix the BigQuery 404 Not found error in MAGE - 2.2.4 when testing connections?', 'What step must I not forget when I encounter a NotFound error while using raw SQL in BigQuery in MAGE - 2.2.4?']\n",
      "['In Module 2, what error indicates that the JWT token is invalid due to being expired or out of timeframe?', 'What is the solution link provided for the RefreshError problem described in Module 2?', \"What specific problem does the error 'invalid_grant: Invalid JWT' point to in Module 2?\", \"Where can I find more information about resolving the 'invalid_grant: Invalid JWT' error in Workflow Orchestration?\", 'What details should be checked in the JWT claim according to the RefreshError issue in Module 2?']\n",
      "['What is the cause of the IndexError: list index out of range error in Mage 2.2.4?', 'Where can I find the solution for the IndexError issue in Mage 2.2.4?', 'Is Mage version 0.9.61 associated with any new issues after the update?', 'How can I resolve the IndexError in Mage version 0.9.61?', 'Has there been a version release of Mage that might have addressed the IndexError problem?']\n",
      "['In Module 2, Workflow Orchestration, how can I fix the OSError indicating a non-existent directory when saving a file?', \"What should I do if I encounter 'OSError: Cannot save file into a non-existent directory' in section 2.2.6 of Module 2?\", 'How do I handle an OSError related to a non-existent directory in Module 2, section 2.2.6?', \"Is there a solution for the OSError issue about saving files in non-existent directories discussed in Module 2's Workflow Orchestration segment?\", 'Can you provide a fix for the directory-related OSError mentioned in section 2.2.6 of Workflow Orchestration in Module 2?']\n",
      "['What was missing in the DE Zoomcamp 2.2.7 video about deploying Mage?', 'How do I set the project_id for deploying Mage to GCP?', 'Which API needs to be enabled for deploying Mage on GCP?', 'What are the commands to perform the Mage deployment with Terraform?', 'What will Terraform prompt for during the apply step in the Mage deployment process?']\n",
      "['How can I run multiple Mage instances from different directories using Docker?', 'What changes should I make in the docker-compose.yml file to run multiple Docker containers from different directories?', 'What is the port mapping configuration for running Mage on my local machine in Docker?', \"How can I fix the error 'insufficientPermissions' when deploying Mage to Google Cloud?\", 'What steps should I follow to add the cloud platform scope to my GCP VM to resolve authentication errors?']\n",
      "['What should I do if I encounter the Load Balancer Problem (Security Policies quota) on GCP while on a free trial account?', 'Is the Load Balancer service available on a free trial account on GCP when using terraform?', 'What specific file should I delete to solve the Load Balancer Problem on GCP?', 'Which lines in the main.tf file need to be commented or deleted to resolve the Load Balancer issue?', 'What terraform command should I run after deleting the load_balancer.tf file and commenting out the necessary lines?']\n",
      "['What should I do if I get an error when running terraform apply in Module 2?', 'How long does it take to deploy the MAGE Terraform files on a GCP Virtual Machine, and what should I do if it takes too long?', 'What might cause my GCP free credits to deplete quickly during the course?', 'Why is the terraform destroy command not completely deleting partial resources, and how can I ensure they are deleted?', 'How can I verify if my MAGE Terraform IaC has completely destroyed specific GCP resources like Filestore?']\n",
      "['What specific IAM permission is required to create a VPC access connector?', \"What error message might one encounter when lacking the permission 'vpcaccess.connectors.create'?\", \"Which service requires the 'Serverless VPC Access Admin' role to resolve an IAM_PERMISSION_DENIED error?\", \"In what domain is the permission 'vpcaccess.connectors.create' located?\", \"To which line in the Terraform script does the error related to 'google_vpc_access_connector' refer?\"]\n",
      "[\"Why can't I save a file into the 'data/green' directory?\", 'How can I ensure a folder is pushed to GitHub?', \"What should I do if a folder doesn't exist when saving a file?\", 'Why does the relative path for writing locally not work when using GitHub storage?', 'What paths should I use for local writing and GCS bucket uploading?']\n",
      "['What should I do if my dataset does not have a column named lpep_pickup_datetime or tpep_pickup_datetime?', 'Why am I missing the lpep_pickup_datetime column in the yellow dataset?', 'Why am I missing the tpep_pickup_datetime column in the green dataset?', 'How do I modify my script for different datasets with lpep_pickup_datetime and tpep_pickup_datetime?', 'What is the difference between lpep_pickup_datetime and tpep_pickup_datetime columns in the datasets?']\n",
      "['How can I download data in chunks using Pandas?', 'What iterator should I use for reading large datasets with Pandas?', 'Which parquet engine should be used to append data?', 'How do I compress data when appending to a parquet file using Pandas?', 'What command do I use to read a CSV file in chunks with Pandas?']\n",
      "['What might cause a denied access error when pushing to a Docker image?', \"What should I do if I receive a 'requested access to the resource is denied' error when pushing to Docker?\", \"What are potential issues if I haven't logged into Docker Desktop properly?\", 'Why is it important to use the same username for building and pushing Docker images?', 'How should I properly build and push a Docker image with a tag?']\n",
      "[\"What should I do if my flow script fails with a 'killed' message in Module 2?\", \"Why might a flow run be terminated with a 'killed' message?\", \"How can I resolve a 'killed' error message when running a flow script?\", 'If my VM has 8 gigs of RAM and my flow script fails, what should I do?', 'What steps can I take to prevent my flow script from failing due to memory issues?']\n",
      "['How can I address disk space issues on my GCP VM when using Prefect?', \"What should I check if my GCP VM's disk space is full during Prefect workflows?\", 'Where can I typically find the cached flows that are using up space on my GCP VM?', 'How do I resolve an SSL Certificate Verify error when running flows on a MAC?', 'What steps can I take to fix the SSL CERTIFICATE_VERIFY_FAILED error on a MAC when using Prefect?']\n",
      "['What does status code 137 indicate when a Docker container crashes?', 'How can I fix a Docker container crash with status code 137?', 'What is causing my Docker container to consume all available RAM?', \"Is there an alternative solution if my workstation can't handle the Docker container?\", 'What online compute environment service can I use if my local resources are insufficient?']\n",
      "['What should I do if my slow internet connection causes the ETL script from web to GCS to timeout?', 'Why might my WSL2 crash or hang when running the ETL script in Module 2?', 'How large is the yellow taxi data for February 2019 after being compressed to a parquet file?', 'What could cause a network type error or resource usage hang when running the ETL script in Q3?', 'How can I upload data to GCS with a higher timeout to prevent errors with a slow internet connection?']\n",
      "['What causes the UndefinedColumn error when exporting transformed green_taxi data to PostgreSQL?', 'Why does the UndefinedColumn error occur when re-running the export block for green_taxi data to PostgreSQL?', 'How can I resolve the UndefinedColumn error for green_taxi data in PostgreSQL?', 'What steps should I take to clear the UndefinedColumn error during the green_taxi data export?', 'How do I successfully re-run the export block for green_taxi data after encountering the UndefinedColumn error?']\n",
      "['What causes the SettingWithCopyWarning error in Homework Q3 of Module 2: Workflow Orchestration?', 'How should I modify my assignment code to avoid the SettingWithCopyWarning error?', 'What does the SettingWithCopyWarning error indicate when working with a DataFrame in Module 2?', 'Which syntax should be used to set a value without triggering the SettingWithCopyWarning?', 'Why should I use data.loc[] = value instead of df[] = value in my code?']\n",
      "['How can I handle large CSV files in the workflow using a slow laptop?', 'What kernel should I use in Mage for big CSV files instead of the Python kernel?', 'Is there documentation available for using the PySpark kernel in Mage?', 'Where can I find the documentation on using the PySpark kernel in Mage?', 'Which kernel is recommended for large NYC data CSV files in Mage?']\n",
      "['How should I delete a block in a pipeline without encountering errors?', 'What is the correct order to remove a block from a pipeline?', 'Can you explain the steps to delete a block connection in a pipeline?', 'What should I do first if I need to delete a block in a pipeline?', 'Why do I need to delete the connection between blocks before removing a block?']\n",
      "[\"What can I do if I'm unable to edit the Pipeline name in Mage UI?\", 'Why do I get a permission denied error when trying to edit a Pipeline name?', \"How should I proceed when I can't edit the Pipeline name in Mage UI?\", 'Is there a workaround for the permission denied error when editing Pipeline names?', 'Will I be able to edit the Pipeline name if I save my work and revisit later?']\n",
      "['How do I make Mage load partitioned files into BigQuery using pyarrow?', 'What is the method to load only some dates of partitioned files using Mage?', \"What should I do if I encounter the error UndefinedColumn: column 'vendor_id' of relation 'green_taxi' does not exist?\", 'Could you provide an example of loading partitioned files into BigQuery using pyarrow.parquet?', 'Where can I find more information about using pyarrow.parquet.ParquetDataset?']\n",
      "['How can I retrieve the files required for Homework 2 from MAGE?', \"What types of files will I find in the 'Pipelines' folder in MAGE?\", \"Where are the files for 'data loaders', 'data transformers', and 'data exporters' located?\", 'What specific steps do I need to take to download my pipeline and associated files from MAGE?', 'After downloading the necessary files from MAGE, what should I do next to complete Homework 2?']\n",
      "['How do I include files from the Mage repo in my personal Data Engineering Zoomcamp repo?', 'Why does GitHub not track the Mage repo and the Data Engineering Zoomcamp repo?', 'What should I do with the .gitignore file before adding Mage files to my DE Zoomcamp repo?', 'What command do I use to remove the original remote repository linkage for the Mage repo?', 'How do I delete the local git files in the Mage folder before adding it to my DE Zoomcamp repo?']\n",
      "['How should I test if passenger_count is greater than 0 to avoid a ValueError?', 'What is the correct operator to use when combining conditions to filter rows in a DataFrame?', 'Why did I get a ValueError when trying to filter DataFrame rows using Boolean conditions?', \"Which operator should I use instead of 'and' to avoid ambiguity in Series?\", 'How should I rephrase my code to filter data based on multiple conditions without errors?']\n",
      "['What should I do if my Mage AI files disappear when I boot up my PC and run docker compose up?', 'How can I properly shut down the Mage Docker Compose?', 'What step should I take before running docker compose up to ensure my files are present?', 'Why might my Mage AI files be missing after starting the web interface?', \"Where can I find more information if I'm having issues with Mage AI in Module 2?\"]\n",
      "['What causes errors in the io.config.yaml file in Module 2?', 'How can I fix trailing quotes errors in Mage io.config.yaml?', 'Why am I seeing issues with quotes in io.config.yaml in Workflow Orchestration?', 'Can you explain the solution for the trailing side errors in io.config.yaml for Workflow Orchestration?', 'What modification is needed for quotes in io.config.yaml as mentioned in Module 2?']\n",
      "['What causes the ArrowException when exporting data from Mage to a GCS bucket?', 'How do I resolve the ArrowException related to GCP credentials in Mage?', 'Where should I create the credentials folder to fix the ArrowException in Mage?', 'What type of file should I create within the credentials folder to fix the Mage error?', 'What environment variable needs updating to properly authenticate using GCP credentials in Mage?']\n",
      "['What is the meaning of the OSError in Mage related to google::cloud::status?', 'Can you explain why the request was not sent in the Mage OSError?', 'Where can I learn more about Google Cloud authentication as mentioned in the Mage OSError?', 'What specific error message indicates the problem in the Mage OSError?', \"Why couldn't an OAuth2 access token be created in the Mage OSError?\"]\n",
      "['What error occurs when attempting to export data from Mage to a GCS bucket due to insufficient permissions?', 'Which permission does the service account lack when encountering the PermissionError in Google Cloud Storage?', 'What role should be added to the service account to resolve the PermissionError in Mage?', \"Where in Google Cloud Console can you edit permissions for a service account to resolve the 'storage.buckets.get' access issue?\", 'Which exact sequence of actions should be followed in Google Cloud Console to add the Cloud Storage Admin role to a service account?']\n",
      "['How do I ensure my pyspark script is ready for Dataproc in Module 3?', 'What is the first step to create a Dataproc Cluster in Module 3?', 'How do I add a new role to the service account in Dataproc?', 'Where should I place my pyspark script for Dataproc in Module 3?', 'What do I need to install to let Mage access Dataproc in Module 3?']\n",
      "['How can I prevent docker-compose from taking forever to install zip and unzip packages?', 'Is there a way to make apt-get automatically install additional packages?', 'What should I do if Docker-compose is slow installing zip utilities?', 'Can I use Python to handle zip files instead of installing additional packages?', 'Are modern python distributions equipped with any package to manage zip files?']\n",
      "{'questions': ['What should I do when encountering an error while writing data from web to GCS in Module 3?', 'How can I resolve a GCS Bucket error in Data Warehousing?', 'What data type considerations are important when writing to a GCS Bucket in Module 3?', 'In case of a GCS error during data writing, what data type should I use?', 'How can I ensure smooth data writing from web to GCS in the Data Warehousing module?']}\n",
      "['What should be done if a GCS bucket fails to create a BigQuery table due to a schema mismatch error?', 'How can differences in column data types in FHV datasets from 2019 affect importing them into BigQuery?', 'Why is it important to ensure all files in a directory have the same schema when ingesting data into BigQuery?', 'How can you address data type discrepancies before uploading parquet files to BigQuery?', 'What is the consequence of using a file with a different schema to append data to an existing BigQuery table?']\n",
      "['What should I check if I get a gzip.BadGzipFile error while importing FHV data to GCS during Module 3?', \"How can I resolve the error gzip.BadGzipFile: Not a gzipped file (b'\\\\n\\\\n') in my data warehousing module?\", 'Where can I find the correct URL for the FHV dataset when encountering an import error in Module 3?', 'What specific part of the URL should be emphasized to avoid gzipping errors when importing data in Module 3?', 'What is the correct URL format for importing the FHV dataset into GCS in Module 3?']\n",
      "{'questions': ['Who provides instructions for loading data from a URL list into a GCP Bucket in Module 3?', 'Whose guidance is followed for loading data from a URL list into a GCP Bucket?', 'Who is the instructor for the GCS Bucket data loading section in Module 3?', 'Who explains the process of loading data from a URL list into a GCS Bucket?', 'Who is responsible for teaching how to load data from a URL list into a GCP Bucket?']}\n",
      "{'questions': ['What should I do when I get a Bad character (ASCII 0) error while querying my dataset in Module 3?', 'How can I resolve wrong formatting issues in my dataset in the Data Warehousing module?', \"What's the best practice for uploading CSV.GZ files to avoid formatting errors in Module 3?\", 'Where can I find additional tips for handling ASCII 0 errors in Data Warehousing?', 'Why might pandas cause issues when uploading CSV.GZ files in the GCS Bucket in Module 3?']}\n",
      "['How can I check if the BigQuery Command Line Tool is installed?', 'What should I do if the bq command is not found?', 'How do I verify the installation of BigQuery Command Line Tool?', 'What command lists installed components in GCP?', 'Is there an alternative command to bq if it is not found?']\n",
      "['What precautions should I take when using BigQuery?', 'How can I prevent unexpected charges when using BigQuery?', 'What happened when I created a BigQuery dataset after my free trial?', 'How can I manage billing effectively when using GCP services?', 'What should I regularly check to avoid incurring charges from GCP?']\n",
      "['What should I do if my GCS Bucket and BigQuery dataset are in different regions?', 'Is it possible to load data from a GCS Bucket in the EU to a BigQuery dataset in the US?', 'How can I resolve the issue of data transfer between different regions in GCP?', 'What steps should I take if I forgot to align the regions for my GCS Bucket and BigQuery dataset?', 'Can you load data directly from a GCS Bucket to a BigQuery dataset if they are not in the same region?']\n",
      "['How can I resolve the issue of not being able to read and write in different locations in GCP BigQuery?', 'What should I check if I encounter an error due to different source and destination regions in BigQuery?', 'Why am I unable to read from a GCS Bucket and write to BigQuery in different regions?', 'What is a potential solution if my BigQuery dataset cannot interact with my GCS Bucket?', 'How do I ensure compatibility between my BigQuery dataset region and my GCS Bucket region?']\n",
      "['What should I do to avoid losing my progress in BigQuery SQL Editor?', 'How can I prevent losing my SQL script if my browser crashes?', 'Is there a feature in BigQuery SQL Editor to save my queries?', 'Where can I find my saved files in BigQuery SQL Editor?', 'Can I use an external editor to save my BigQuery SQL scripts?']\n",
      "['Can BigQuery handle real-time analytics in our project?', 'Is real-time data streaming available in BigQuery for this project?', 'Does BigQuery offer real-time analytics functionality?', 'Can we integrate real-time analytics with BigQuery later?', 'Does BigQuery support real-time data streaming?']\n",
      "['How can I fix an invalid timestamp error when loading data from an external table into a materialized table in BigQuery?', \"What steps should I take if I encounter an error saying 'could not parse pickup_datetime as timestamp for field pickup_datetime' while appending data to a file in Google Cloud Storage?\", 'When dealing with invalid timestamp errors in BigQuery, what schema adjustment can help identify the problem?', \"If I get an error with 'invalid data in the timestamp column' in BigQuery, how should I redefine the schema?\", 'What is a recommended approach to filter out invalid rows when importing data with timestamp issues into a materialized table in BigQuery?']\n",
      "['What steps should I take if I get an timestamp error in BigQuery while using `pd.read_parquet`?', 'How can I correct a timestamp error in BigQuery when using `pq.write_to_dataset`?', 'What should I do if converting Parquet files with PyArrow to BigQuery results in a timestamp annotation error?', 'Is there a way to resolve datetime format issues when editing Parquet files with Python for BigQuery?', 'Where can I find more information on resolving Parquet timestamp issues in BigQuery?']\n",
      "['How do I handle datetime columns in Parquet files created from Pandas showing up as integer columns in BigQuery?', 'What code should I use in Mage to ensure datetime columns are converted to the correct type when exporting to Google Cloud Storage?', 'What PyArrow function helps convert integer datetime columns to the correct type for BigQuery?', 'What should the PyArrow schema include to ensure datetime columns are correctly typed for BigQuery?', 'How can I set up the environment to use PyArrow for exporting data to Google Cloud Storage in Mage?']\n"
     ]
    },
    {
     "ename": "SyntaxError",
     "evalue": "'[' was never closed (<string>, line 1)",
     "output_type": "error",
     "traceback": [
      "Traceback \u001b[0;36m(most recent call last)\u001b[0m:\n",
      "\u001b[0m  File \u001b[1;32m~/.local/lib/python3.10/site-packages/IPython/core/interactiveshell.py:3577\u001b[0m in \u001b[1;35mrun_code\u001b[0m\n    exec(code_obj, self.user_global_ns, self.user_ns)\u001b[0m\n",
      "\u001b[0;36m  Cell \u001b[0;32mIn[28], line 2\u001b[0;36m\n\u001b[0;31m    print(eval(q))\u001b[0;36m\n",
      "\u001b[0;36m  File \u001b[0;32m<string>:1\u001b[0;36m\u001b[0m\n\u001b[0;31m    [\"How can I create an external table in Google Cloud BigQuery using Python?\", \"What is the external source format to be used for a table in BigQuery?\", \"How do I set the source_uris for an external table in Google Cloud Storage?\", \"Which object should be created to define the external data configuration in BigQuery?\", \"How can I verify the format of an external table after creating it in BigQuery?\"\u001b[0m\n\u001b[0m    ^\u001b[0m\n\u001b[0;31mSyntaxError\u001b[0m\u001b[0;31m:\u001b[0m '[' was never closed\n"
     ]
    }
   ],
   "source": [
    "for doc_id, q in results.items():\n",
    "    print(eval(q))"
   ]
  },
  {
   "cell_type": "code",
   "execution_count": 24,
   "id": "99ff4ed3-e767-42e9-80b6-22d1cef50987",
   "metadata": {},
   "outputs": [
    {
     "ename": "JSONDecodeError",
     "evalue": "Expecting ',' delimiter: line 1 column 402 (char 401)",
     "output_type": "error",
     "traceback": [
      "\u001b[0;31m---------------------------------------------------------------------------\u001b[0m",
      "\u001b[0;31mJSONDecodeError\u001b[0m                           Traceback (most recent call last)",
      "Cell \u001b[0;32mIn[24], line 4\u001b[0m\n\u001b[1;32m      1\u001b[0m parsed_result \u001b[38;5;241m=\u001b[39m {}\n\u001b[1;32m      3\u001b[0m \u001b[38;5;28;01mfor\u001b[39;00m doc_id, json_questions \u001b[38;5;129;01min\u001b[39;00m results\u001b[38;5;241m.\u001b[39mitems():\n\u001b[0;32m----> 4\u001b[0m     parsed_result[doc_id] \u001b[38;5;241m=\u001b[39m \u001b[43mjson\u001b[49m\u001b[38;5;241;43m.\u001b[39;49m\u001b[43mloads\u001b[49m\u001b[43m(\u001b[49m\u001b[43mjson_questions\u001b[49m\u001b[43m)\u001b[49m\n",
      "File \u001b[0;32m~/miniconda3/lib/python3.10/json/__init__.py:346\u001b[0m, in \u001b[0;36mloads\u001b[0;34m(s, cls, object_hook, parse_float, parse_int, parse_constant, object_pairs_hook, **kw)\u001b[0m\n\u001b[1;32m    341\u001b[0m     s \u001b[38;5;241m=\u001b[39m s\u001b[38;5;241m.\u001b[39mdecode(detect_encoding(s), \u001b[38;5;124m'\u001b[39m\u001b[38;5;124msurrogatepass\u001b[39m\u001b[38;5;124m'\u001b[39m)\n\u001b[1;32m    343\u001b[0m \u001b[38;5;28;01mif\u001b[39;00m (\u001b[38;5;28mcls\u001b[39m \u001b[38;5;129;01mis\u001b[39;00m \u001b[38;5;28;01mNone\u001b[39;00m \u001b[38;5;129;01mand\u001b[39;00m object_hook \u001b[38;5;129;01mis\u001b[39;00m \u001b[38;5;28;01mNone\u001b[39;00m \u001b[38;5;129;01mand\u001b[39;00m\n\u001b[1;32m    344\u001b[0m         parse_int \u001b[38;5;129;01mis\u001b[39;00m \u001b[38;5;28;01mNone\u001b[39;00m \u001b[38;5;129;01mand\u001b[39;00m parse_float \u001b[38;5;129;01mis\u001b[39;00m \u001b[38;5;28;01mNone\u001b[39;00m \u001b[38;5;129;01mand\u001b[39;00m\n\u001b[1;32m    345\u001b[0m         parse_constant \u001b[38;5;129;01mis\u001b[39;00m \u001b[38;5;28;01mNone\u001b[39;00m \u001b[38;5;129;01mand\u001b[39;00m object_pairs_hook \u001b[38;5;129;01mis\u001b[39;00m \u001b[38;5;28;01mNone\u001b[39;00m \u001b[38;5;129;01mand\u001b[39;00m \u001b[38;5;129;01mnot\u001b[39;00m kw):\n\u001b[0;32m--> 346\u001b[0m     \u001b[38;5;28;01mreturn\u001b[39;00m \u001b[43m_default_decoder\u001b[49m\u001b[38;5;241;43m.\u001b[39;49m\u001b[43mdecode\u001b[49m\u001b[43m(\u001b[49m\u001b[43ms\u001b[49m\u001b[43m)\u001b[49m\n\u001b[1;32m    347\u001b[0m \u001b[38;5;28;01mif\u001b[39;00m \u001b[38;5;28mcls\u001b[39m \u001b[38;5;129;01mis\u001b[39;00m \u001b[38;5;28;01mNone\u001b[39;00m:\n\u001b[1;32m    348\u001b[0m     \u001b[38;5;28mcls\u001b[39m \u001b[38;5;241m=\u001b[39m JSONDecoder\n",
      "File \u001b[0;32m~/miniconda3/lib/python3.10/json/decoder.py:337\u001b[0m, in \u001b[0;36mJSONDecoder.decode\u001b[0;34m(self, s, _w)\u001b[0m\n\u001b[1;32m    332\u001b[0m \u001b[38;5;28;01mdef\u001b[39;00m \u001b[38;5;21mdecode\u001b[39m(\u001b[38;5;28mself\u001b[39m, s, _w\u001b[38;5;241m=\u001b[39mWHITESPACE\u001b[38;5;241m.\u001b[39mmatch):\n\u001b[1;32m    333\u001b[0m \u001b[38;5;250m    \u001b[39m\u001b[38;5;124;03m\"\"\"Return the Python representation of ``s`` (a ``str`` instance\u001b[39;00m\n\u001b[1;32m    334\u001b[0m \u001b[38;5;124;03m    containing a JSON document).\u001b[39;00m\n\u001b[1;32m    335\u001b[0m \n\u001b[1;32m    336\u001b[0m \u001b[38;5;124;03m    \"\"\"\u001b[39;00m\n\u001b[0;32m--> 337\u001b[0m     obj, end \u001b[38;5;241m=\u001b[39m \u001b[38;5;28;43mself\u001b[39;49m\u001b[38;5;241;43m.\u001b[39;49m\u001b[43mraw_decode\u001b[49m\u001b[43m(\u001b[49m\u001b[43ms\u001b[49m\u001b[43m,\u001b[49m\u001b[43m \u001b[49m\u001b[43midx\u001b[49m\u001b[38;5;241;43m=\u001b[39;49m\u001b[43m_w\u001b[49m\u001b[43m(\u001b[49m\u001b[43ms\u001b[49m\u001b[43m,\u001b[49m\u001b[43m \u001b[49m\u001b[38;5;241;43m0\u001b[39;49m\u001b[43m)\u001b[49m\u001b[38;5;241;43m.\u001b[39;49m\u001b[43mend\u001b[49m\u001b[43m(\u001b[49m\u001b[43m)\u001b[49m\u001b[43m)\u001b[49m\n\u001b[1;32m    338\u001b[0m     end \u001b[38;5;241m=\u001b[39m _w(s, end)\u001b[38;5;241m.\u001b[39mend()\n\u001b[1;32m    339\u001b[0m     \u001b[38;5;28;01mif\u001b[39;00m end \u001b[38;5;241m!=\u001b[39m \u001b[38;5;28mlen\u001b[39m(s):\n",
      "File \u001b[0;32m~/miniconda3/lib/python3.10/json/decoder.py:353\u001b[0m, in \u001b[0;36mJSONDecoder.raw_decode\u001b[0;34m(self, s, idx)\u001b[0m\n\u001b[1;32m    344\u001b[0m \u001b[38;5;250m\u001b[39m\u001b[38;5;124;03m\"\"\"Decode a JSON document from ``s`` (a ``str`` beginning with\u001b[39;00m\n\u001b[1;32m    345\u001b[0m \u001b[38;5;124;03ma JSON document) and return a 2-tuple of the Python\u001b[39;00m\n\u001b[1;32m    346\u001b[0m \u001b[38;5;124;03mrepresentation and the index in ``s`` where the document ended.\u001b[39;00m\n\u001b[0;32m   (...)\u001b[0m\n\u001b[1;32m    350\u001b[0m \n\u001b[1;32m    351\u001b[0m \u001b[38;5;124;03m\"\"\"\u001b[39;00m\n\u001b[1;32m    352\u001b[0m \u001b[38;5;28;01mtry\u001b[39;00m:\n\u001b[0;32m--> 353\u001b[0m     obj, end \u001b[38;5;241m=\u001b[39m \u001b[38;5;28;43mself\u001b[39;49m\u001b[38;5;241;43m.\u001b[39;49m\u001b[43mscan_once\u001b[49m\u001b[43m(\u001b[49m\u001b[43ms\u001b[49m\u001b[43m,\u001b[49m\u001b[43m \u001b[49m\u001b[43midx\u001b[49m\u001b[43m)\u001b[49m\n\u001b[1;32m    354\u001b[0m \u001b[38;5;28;01mexcept\u001b[39;00m \u001b[38;5;167;01mStopIteration\u001b[39;00m \u001b[38;5;28;01mas\u001b[39;00m err:\n\u001b[1;32m    355\u001b[0m     \u001b[38;5;28;01mraise\u001b[39;00m JSONDecodeError(\u001b[38;5;124m\"\u001b[39m\u001b[38;5;124mExpecting value\u001b[39m\u001b[38;5;124m\"\u001b[39m, s, err\u001b[38;5;241m.\u001b[39mvalue) \u001b[38;5;28;01mfrom\u001b[39;00m \u001b[38;5;28;01mNone\u001b[39;00m\n",
      "\u001b[0;31mJSONDecodeError\u001b[0m: Expecting ',' delimiter: line 1 column 402 (char 401)"
     ]
    }
   ],
   "source": [
    "parsed_result = {}\n",
    "\n",
    "for doc_id, json_questions in results.items():\n",
    "    parsed_result[doc_id] = json.loads(json_questions)"
   ]
  },
  {
   "cell_type": "code",
   "execution_count": 4,
   "id": "04c06851-e0ff-41a0-abb9-5e7371cf1e7c",
   "metadata": {},
   "outputs": [
    {
     "ename": "NameError",
     "evalue": "name 'results' is not defined",
     "output_type": "error",
     "traceback": [
      "\u001b[0;31m---------------------------------------------------------------------------\u001b[0m",
      "\u001b[0;31mNameError\u001b[0m                                 Traceback (most recent call last)",
      "Cell \u001b[0;32mIn[4], line 1\u001b[0m\n\u001b[0;32m----> 1\u001b[0m \u001b[43mresults\u001b[49m\u001b[38;5;241m.\u001b[39mbin\n",
      "\u001b[0;31mNameError\u001b[0m: name 'results' is not defined"
     ]
    }
   ],
   "source": [
    "results.bin"
   ]
  },
  {
   "cell_type": "code",
   "execution_count": null,
   "id": "5ec4b078-1f8b-4e46-b3dd-5a63b1ebe0b7",
   "metadata": {},
   "outputs": [],
   "source": []
  }
 ],
 "metadata": {
  "kernelspec": {
   "display_name": "Python 3 (ipykernel)",
   "language": "python",
   "name": "python3"
  },
  "language_info": {
   "codemirror_mode": {
    "name": "ipython",
    "version": 3
   },
   "file_extension": ".py",
   "mimetype": "text/x-python",
   "name": "python",
   "nbconvert_exporter": "python",
   "pygments_lexer": "ipython3",
   "version": "3.10.14"
  }
 },
 "nbformat": 4,
 "nbformat_minor": 5
}
