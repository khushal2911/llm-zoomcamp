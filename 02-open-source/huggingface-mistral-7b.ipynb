{
 "cells": [
  {
   "cell_type": "markdown",
   "id": "aebca0f8",
   "metadata": {},
   "source": [
    "# RAG with DIY-Search and MISTRAL-7B"
   ]
  },
  {
   "cell_type": "code",
   "execution_count": 1,
   "id": "25206403-5d45-4e23-aca6-0eabe739fa53",
   "metadata": {},
   "outputs": [],
   "source": [
    "import os\n",
    "os.environ['HF_HOME'] = '/run/cache/' # DON'T FORGET THIS, ELSE DISK CACHE WILL RUN OUT OF SPACE WHEN YOU DOWNLOAD XL MODEL\n",
    "\n",
    "import json\n",
    "import requests\n",
    "import minsearch"
   ]
  },
  {
   "cell_type": "code",
   "execution_count": 2,
   "id": "e88dc84f-7114-480b-bd40-7858939168f4",
   "metadata": {},
   "outputs": [],
   "source": [
    "docs_url = 'https://github.com/DataTalksClub/llm-zoomcamp/blob/main/01-intro/documents.json?raw=1'\n",
    "docs = requests.get(docs_url).json()"
   ]
  },
  {
   "cell_type": "code",
   "execution_count": 3,
   "id": "85583d04-121b-43b4-89bc-0bef3cdc31f0",
   "metadata": {},
   "outputs": [],
   "source": [
    "documents = []\n",
    "\n",
    "for course_dict in docs:\n",
    "    for doc in course_dict['documents']:\n",
    "        doc['course'] = course_dict['course']\n",
    "        documents.append(doc)"
   ]
  },
  {
   "cell_type": "code",
   "execution_count": 4,
   "id": "ec36cde4-628e-4f12-9dbc-b23d64322cee",
   "metadata": {},
   "outputs": [
    {
     "data": {
      "text/plain": [
       "<minsearch.Index at 0x7ff8c41e2730>"
      ]
     },
     "execution_count": 4,
     "metadata": {},
     "output_type": "execute_result"
    }
   ],
   "source": [
    "index = minsearch.Index(text_fields=[\"question\", \"text\", \"section\"],\n",
    "                        keyword_fields=[\"course\"]\n",
    ")\n",
    "\n",
    "index.fit(documents)"
   ]
  },
  {
   "cell_type": "code",
   "execution_count": 5,
   "id": "5c93400a-30ee-407a-b34f-6a8b089a63ee",
   "metadata": {},
   "outputs": [],
   "source": [
    "def search(q):\n",
    "    boost = {'question': 3.0, 'section': 0.5}\n",
    "\n",
    "    results = index.search(\n",
    "        query=q,\n",
    "        filter_dict={'course': 'data-engineering-zoomcamp'},\n",
    "        boost_dict=boost,\n",
    "        num_results=5\n",
    "    )\n",
    "    return results"
   ]
  },
  {
   "cell_type": "markdown",
   "id": "c4770c81",
   "metadata": {},
   "source": [
    "# mistral - 7B"
   ]
  },
  {
   "cell_type": "code",
   "execution_count": 7,
   "id": "f0f4d606",
   "metadata": {},
   "outputs": [],
   "source": [
    "import os\n",
    "os.environ['HF_TOKEN'] = TOKEN # saved on laptop"
   ]
  },
  {
   "cell_type": "code",
   "execution_count": 8,
   "id": "809c926a",
   "metadata": {},
   "outputs": [
    {
     "name": "stdout",
     "output_type": "stream",
     "text": [
      "The token has not been saved to the git credentials helper. Pass `add_to_git_credential=True` in this function directly or `--add-to-git-credential` if using via `huggingface-cli` if you want to set the git credential as well.\n",
      "Token is valid (permission: write).\n",
      "Your token has been saved to /run/cache/token\n",
      "Login successful\n"
     ]
    }
   ],
   "source": [
    "from huggingface_hub import login\n",
    "login(token=os.environ['HF_TOKEN'])"
   ]
  },
  {
   "cell_type": "code",
   "execution_count": null,
   "id": "93ab04e0",
   "metadata": {},
   "outputs": [
    {
     "data": {
      "application/vnd.jupyter.widget-view+json": {
       "model_id": "66ac54c0a17046bcb32b2ec302dcc20c",
       "version_major": 2,
       "version_minor": 0
      },
      "text/plain": [
       "Loading checkpoint shards:   0%|          | 0/2 [00:00<?, ?it/s]"
      ]
     },
     "metadata": {},
     "output_type": "display_data"
    }
   ],
   "source": [
    "# Use a pipeline as a high-level helper\n",
    "from transformers import AutoTokenizer, AutoModelForCausalLM\n",
    "from transformers import pipeline\n",
    "\n",
    "tokenizer = AutoTokenizer.from_pretrained(\"mistralai/Mistral-7B-v0.1\")\n",
    "model = AutoModelForCausalLM.from_pretrained(\"mistralai/Mistral-7B-v0.1\")\n",
    "pipe = pipeline(\"text-generation\", model=\"mistralai/Mistral-7B-v0.1\")\n",
    "# Load model directly"
   ]
  },
  {
   "cell_type": "code",
   "execution_count": null,
   "id": "345658ec",
   "metadata": {},
   "outputs": [],
   "source": [
    "model_inputs = tokenizer([prompt], return_tensors=\"pt\").to(\"cuda\")\n",
    "generated_ids = model.generate(**model_inputs, max_new_tokens=100, do_sample=True)\n",
    "tokenizer.batch_decode(generated_ids)[0]"
   ]
  },
  {
   "cell_type": "code",
   "execution_count": 9,
   "id": "8b590d13",
   "metadata": {},
   "outputs": [],
   "source": [
    "def build_prompt(question, context):\n",
    "    prompt = \"\"\"You are a chatbot answering frequently asked questions for an online course. \n",
    "    Provide ANSWER to the QUESTION based on the CONTEXT given below. \n",
    "    Only state the facts from the CONTEXT else respond that information is not available.\n",
    "    \n",
    "    QUESTION = {question}\n",
    "    CONTEXT = {context}\n",
    "    ANSWER\n",
    "    \"\"\"\n",
    "    prompt_output = prompt.format(question = question, context=context)\n",
    "    return prompt_output"
   ]
  },
  {
   "cell_type": "code",
   "execution_count": 14,
   "id": "90b768a7",
   "metadata": {},
   "outputs": [],
   "source": [
    "def llm(prompt):\n",
    "    messages = [\n",
    "    {\"role\": \"user\", \"content\": prompt}]\n",
    "    \n",
    "    return result"
   ]
  },
  {
   "cell_type": "code",
   "execution_count": 15,
   "id": "7db052f3",
   "metadata": {},
   "outputs": [],
   "source": [
    "def rag_response(q):\n",
    "    context = search(q)\n",
    "    prompt = build_prompt(q, context)\n",
    "    answer = llm(prompt)\n",
    "    return answer"
   ]
  },
  {
   "cell_type": "code",
   "execution_count": 16,
   "id": "a91425a5",
   "metadata": {},
   "outputs": [
    {
     "data": {
      "text/plain": [
       "'You do not need to know Python to pass the course. The course materials and instructions are provided in a way that does not require prior knowledge of Python.'"
      ]
     },
     "execution_count": 16,
     "metadata": {},
     "output_type": "execute_result"
    }
   ],
   "source": [
    "query = \"Do i need to know python to pass the course?\"\n",
    "rag_response(query)"
   ]
  },
  {
   "cell_type": "code",
   "execution_count": null,
   "id": "059b9001",
   "metadata": {},
   "outputs": [],
   "source": []
  }
 ],
 "metadata": {
  "kernelspec": {
   "display_name": "saturn (Python 3)",
   "language": "python",
   "name": "python3"
  },
  "language_info": {
   "codemirror_mode": {
    "name": "ipython",
    "version": 3
   },
   "file_extension": ".py",
   "mimetype": "text/x-python",
   "name": "python",
   "nbconvert_exporter": "python",
   "pygments_lexer": "ipython3",
   "version": "3.9.18"
  }
 },
 "nbformat": 4,
 "nbformat_minor": 5
}
