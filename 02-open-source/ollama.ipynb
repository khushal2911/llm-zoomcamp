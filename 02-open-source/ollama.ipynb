{
 "cells": [
  {
   "cell_type": "code",
   "execution_count": 1,
   "metadata": {},
   "outputs": [
    {
     "data": {
      "text/plain": [
       "<minsearch.Index at 0x74807df07fa0>"
      ]
     },
     "execution_count": 1,
     "metadata": {},
     "output_type": "execute_result"
    }
   ],
   "source": [
    "import requests \n",
    "import minsearch\n",
    "\n",
    "docs_url = 'https://github.com/DataTalksClub/llm-zoomcamp/blob/main/01-intro/documents.json?raw=1'\n",
    "docs_response = requests.get(docs_url)\n",
    "documents_raw = docs_response.json()\n",
    "\n",
    "documents = []\n",
    "\n",
    "for course in documents_raw:\n",
    "    course_name = course['course']\n",
    "\n",
    "    for doc in course['documents']:\n",
    "        doc['course'] = course_name\n",
    "        documents.append(doc)\n",
    "\n",
    "index = minsearch.Index(\n",
    "    text_fields=[\"question\", \"text\", \"section\"],\n",
    "    keyword_fields=[\"course\"]\n",
    ")\n",
    "\n",
    "index.fit(documents)"
   ]
  },
  {
   "cell_type": "code",
   "execution_count": 2,
   "metadata": {},
   "outputs": [],
   "source": [
    "def search(query):\n",
    "    boost = {'question': 3.0, 'section': 0.5}\n",
    "\n",
    "    results = index.search(\n",
    "        query=query,\n",
    "        filter_dict={'course': 'data-engineering-zoomcamp'},\n",
    "        boost_dict=boost,\n",
    "        num_results=5\n",
    "    )\n",
    "\n",
    "    return results"
   ]
  },
  {
   "cell_type": "code",
   "execution_count": 3,
   "metadata": {},
   "outputs": [],
   "source": [
    "def build_prompt(query, search_results):\n",
    "    prompt_template = \"\"\"\n",
    "You're a course teaching assistant. Answer the QUESTION based on the CONTEXT from the FAQ database.\n",
    "Use only the facts from the CONTEXT when answering the QUESTION.\n",
    "\n",
    "QUESTION: {question}\n",
    "\n",
    "CONTEXT: \n",
    "{context}\n",
    "\"\"\".strip()\n",
    "\n",
    "    context = \"\"\n",
    "    \n",
    "    for doc in search_results:\n",
    "        context = context + f\"section: {doc['section']}\\nquestion: {doc['question']}\\nanswer: {doc['text']}\\n\\n\"\n",
    "    \n",
    "    prompt = prompt_template.format(question=query, context=context).strip()\n",
    "    return prompt\n",
    "\n",
    "def llm(prompt):\n",
    "    response = client.chat.completions.create(\n",
    "        model='phi3',\n",
    "        messages=[{\"role\": \"user\", \"content\": prompt}]\n",
    "    )\n",
    "    \n",
    "    return response.choices[0].message.content"
   ]
  },
  {
   "cell_type": "code",
   "execution_count": 4,
   "metadata": {},
   "outputs": [],
   "source": [
    "def rag(query):\n",
    "    search_results = search(query)\n",
    "    prompt = build_prompt(query, search_results)\n",
    "    answer = llm(prompt)\n",
    "    return answer"
   ]
  },
  {
   "cell_type": "code",
   "execution_count": 5,
   "metadata": {},
   "outputs": [],
   "source": [
    "from openai import OpenAI\n",
    "\n",
    "client = OpenAI(\n",
    "    base_url='http://localhost:11434/v1/',\n",
    "    api_key='ollama',\n",
    ")"
   ]
  },
  {
   "cell_type": "code",
   "execution_count": 7,
   "metadata": {},
   "outputs": [
    {
     "data": {
      "text/plain": [
       "\" Certainly! However, please note that I cannot directly enroll you in courses or provide personalized advice. Generally speaking:\\n\\nTo determine if and how to join a specific online course like those offered by platforms such as Coursera (which seems to be your context based on this request), follow these steps:\\n\\n1. **Course Availability**: Check the availability of the course you are interested in joining, either through their website or an educational institution that partners with them. Some courses might have limited slots due to high demand and a fixed capacity for interactive sessions like those led by industry experts such as Elon Musk (if relevant).\\n\\n2. **Prerequisites**: Make sure you meet any prerequisites required for the course, which can often be found on the Course Description page or in the Syllabus section of the course website. These might include basic knowledge in a specific subject area and certain computer skills to handle interactive components effectively.\\n\\n3. **Registration**: If you meet all prerequisites and find an available spot, proceed with registration through their online enrollment system or by signing up directly at one of the institutional campuses that offers these courses (like MIT for EdX). You'll typically need to provide personal details like your name, email address, social security number if necessary in the United States, and payment information.\\n\\n4. **Deadlines**: Be aware of course registration deadlines which can vary from one institution to another or between different courses offered within the same platform (Coursera often has a specific start date for each term). Missing these will result in losing your chance to enroll in that particular session, as spots are usually limited.\\n\\nIf you find yourself past registration deadlines:\\n- Check if they're offering refunds or rollover credits into future courses (as some institutions have policies allowing this), especially for a provider like Coursera which often offers such options in exceptional circumstances, although not guaranteed and based on specific conditions. \\n- Keep an eye out for announcements about the next cohort of learners as they sometimes get added after initial registration periods end but before courses start (as has been done previously with popular or high-demand courses). Some platforms even offer waitlist options, though this is not always guaranteed and depends on course policies.\\n- You might still be able to take the same content through a later offering of similar free versions if they exist, provided you're aware that there won't be interaction with instructors like Elon Musk or live discussions as in original offerings but rather recorded lectures and pre-recorded videos.\\n\\nUltimately, it is best to plan ahead when considering joining such popular courses where demand can quickly outpace supply due to limited spots for interactive components at the start of a new term. However, if you're truly passionate about learning from someone like Elon Musk and would appreciate his insights even though there might be delays in participation (due to high interest), it could still offer immense educational value once available!\\n\\nI hope this general guidance is helpful for your query regarding joining a course of the caliber you're interested in. Please remember, always check with official sources directly when navigating these opportunities.\""
      ]
     },
     "execution_count": 7,
     "metadata": {},
     "output_type": "execute_result"
    }
   ],
   "source": [
    "llm('can i still join the course ?')"
   ]
  },
  {
   "cell_type": "code",
   "execution_count": 8,
   "metadata": {},
   "outputs": [
    {
     "name": "stdout",
     "output_type": "stream",
     "text": [
      " Certainly! However, please note that I cannot directly enroll you in courses or provide personalized advice. Generally speaking:\n",
      "\n",
      "To determine if and how to join a specific online course like those offered by platforms such as Coursera (which seems to be your context based on this request), follow these steps:\n",
      "\n",
      "1. **Course Availability**: Check the availability of the course you are interested in joining, either through their website or an educational institution that partners with them. Some courses might have limited slots due to high demand and a fixed capacity for interactive sessions like those led by industry experts such as Elon Musk (if relevant).\n",
      "\n",
      "2. **Prerequisites**: Make sure you meet any prerequisites required for the course, which can often be found on the Course Description page or in the Syllabus section of the course website. These might include basic knowledge in a specific subject area and certain computer skills to handle interactive components effectively.\n",
      "\n",
      "3. **Registration**: If you meet all prerequisites and find an available spot, proceed with registration through their online enrollment system or by signing up directly at one of the institutional campuses that offers these courses (like MIT for EdX). You'll typically need to provide personal details like your name, email address, social security number if necessary in the United States, and payment information.\n",
      "\n",
      "4. **Deadlines**: Be aware of course registration deadlines which can vary from one institution to another or between different courses offered within the same platform (Coursera often has a specific start date for each term). Missing these will result in losing your chance to enroll in that particular session, as spots are usually limited.\n",
      "\n",
      "If you find yourself past registration deadlines:\n",
      "- Check if they're offering refunds or rollover credits into future courses (as some institutions have policies allowing this), especially for a provider like Coursera which often offers such options in exceptional circumstances, although not guaranteed and based on specific conditions. \n",
      "- Keep an eye out for announcements about the next cohort of learners as they sometimes get added after initial registration periods end but before courses start (as has been done previously with popular or high-demand courses). Some platforms even offer waitlist options, though this is not always guaranteed and depends on course policies.\n",
      "- You might still be able to take the same content through a later offering of similar free versions if they exist, provided you're aware that there won't be interaction with instructors like Elon Musk or live discussions as in original offerings but rather recorded lectures and pre-recorded videos.\n",
      "\n",
      "Ultimately, it is best to plan ahead when considering joining such popular courses where demand can quickly outpace supply due to limited spots for interactive components at the start of a new term. However, if you're truly passionate about learning from someone like Elon Musk and would appreciate his insights even though there might be delays in participation (due to high interest), it could still offer immense educational value once available!\n",
      "\n",
      "I hope this general guidance is helpful for your query regarding joining a course of the caliber you're interested in. Please remember, always check with official sources directly when navigating these opportunities.\n"
     ]
    }
   ],
   "source": [
    "print(_)"
   ]
  },
  {
   "cell_type": "code",
   "execution_count": null,
   "metadata": {},
   "outputs": [],
   "source": []
  }
 ],
 "metadata": {
  "kernelspec": {
   "display_name": "Python 3 (ipykernel)",
   "language": "python",
   "name": "python3"
  },
  "language_info": {
   "codemirror_mode": {
    "name": "ipython",
    "version": 3
   },
   "file_extension": ".py",
   "mimetype": "text/x-python",
   "name": "python",
   "nbconvert_exporter": "python",
   "pygments_lexer": "ipython3",
   "version": "3.10.13"
  }
 },
 "nbformat": 4,
 "nbformat_minor": 4
}
