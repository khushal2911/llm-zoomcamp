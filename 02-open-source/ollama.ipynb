{
 "cells": [
  {
   "cell_type": "code",
   "execution_count": 1,
   "metadata": {},
   "outputs": [
    {
     "data": {
      "text/plain": [
       "<minsearch.Index at 0x72d2c81c3340>"
      ]
     },
     "execution_count": 1,
     "metadata": {},
     "output_type": "execute_result"
    }
   ],
   "source": [
    "import requests \n",
    "import minsearch\n",
    "\n",
    "docs_url = 'https://github.com/DataTalksClub/llm-zoomcamp/blob/main/01-intro/documents.json?raw=1'\n",
    "docs_response = requests.get(docs_url)\n",
    "documents_raw = docs_response.json()\n",
    "\n",
    "documents = []\n",
    "\n",
    "for course in documents_raw:\n",
    "    course_name = course['course']\n",
    "\n",
    "    for doc in course['documents']:\n",
    "        doc['course'] = course_name\n",
    "        documents.append(doc)\n",
    "\n",
    "index = minsearch.Index(\n",
    "    text_fields=[\"question\", \"text\", \"section\"],\n",
    "    keyword_fields=[\"course\"]\n",
    ")\n",
    "\n",
    "index.fit(documents)"
   ]
  },
  {
   "cell_type": "code",
   "execution_count": 2,
   "metadata": {},
   "outputs": [],
   "source": [
    "def search(query):\n",
    "    boost = {'question': 3.0, 'section': 0.5}\n",
    "\n",
    "    results = index.search(\n",
    "        query=query,\n",
    "        filter_dict={'course': 'data-engineering-zoomcamp'},\n",
    "        boost_dict=boost,\n",
    "        num_results=5\n",
    "    )\n",
    "\n",
    "    return results"
   ]
  },
  {
   "cell_type": "code",
   "execution_count": 3,
   "metadata": {},
   "outputs": [],
   "source": [
    "def build_prompt(query, search_results):\n",
    "    prompt_template = \"\"\"\n",
    "You're a course teaching assistant. Answer the QUESTION based on the CONTEXT from the FAQ database.\n",
    "Use only the facts from the CONTEXT when answering the QUESTION.\n",
    "\n",
    "QUESTION: {question}\n",
    "\n",
    "CONTEXT: \n",
    "{context}\n",
    "\"\"\".strip()\n",
    "\n",
    "    context = \"\"\n",
    "    \n",
    "    for doc in search_results:\n",
    "        context = context + f\"section: {doc['section']}\\nquestion: {doc['question']}\\nanswer: {doc['text']}\\n\\n\"\n",
    "    \n",
    "    prompt = prompt_template.format(question=query, context=context).strip()\n",
    "    return prompt\n",
    "\n",
    "def llm(prompt):\n",
    "    response = client.chat.completions.create(\n",
    "        model='phi3',\n",
    "        messages=[{\"role\": \"user\", \"content\": prompt}]\n",
    "    )\n",
    "    \n",
    "    return response.choices[0].message.content"
   ]
  },
  {
   "cell_type": "code",
   "execution_count": 4,
   "metadata": {},
   "outputs": [],
   "source": [
    "def rag(query):\n",
    "    search_results = search(query)\n",
    "    prompt = build_prompt(query, search_results)\n",
    "    answer = llm(prompt)\n",
    "    return answer"
   ]
  },
  {
   "cell_type": "code",
   "execution_count": 5,
   "metadata": {},
   "outputs": [],
   "source": [
    "from openai import OpenAI\n",
    "\n",
    "client = OpenAI(\n",
    "    base_url='http://localhost:11434/v1/',\n",
    "    api_key='ollama',\n",
    ")"
   ]
  },
  {
   "cell_type": "code",
   "execution_count": 8,
   "metadata": {},
   "outputs": [
    {
     "data": {
      "text/plain": [
       "' To answer this question, I would need specific details about the context of your inquiry. However, here\\'s a general approach to finding out if you can still join a particular online or in-person course:\\n\\n1. Check Availability and Dates: Immediately visit the official website of the institution offering the course for accurate information on when they last had open enrollment periods or check directly with their admissions office via phone, email, or chat if available through a portal like Course Hero’s Help Center (for courses).\\n\\n2. Deadlines: Look up any specific deadlines relevant to your situation that might allow for late registration in exceptional circumstances and see if they apply universally across all classes the institution offers – not just this particular course you\\'re interested in. \\n\\n3. Contact Instructors or Advisers: Reach out directly via email, phone call (if contact info is provided), or a message board dedicated to their courses for personalized information and advice on your unique situation. Explain why it’s urgent that you join the course now due to health reasons related to COVID-19 concerns before getting into further details of medical conditions in conversation with instructors if necessary, while still maintaining privacy by discussing specific needs via appropriate channels like email or secure messaging platforms provided by educational institutions.\\n\\n4. Look for Alternatives: If the original course is no longer accepting late registrations and you cannot join due to health concerns directly linked to COVID-19 exposure risks, explore similar courses with overlapping content that may fit your schedule better or offer asynchronous learning options where joining at different times won’t affect synchronous sessions.\\n\\n5. Review University Policies: Many universities have outlined specific policies during the pandemic regarding enrollment in courses due to COVID-19 exposure and risks, so it\\'s best to review those thoroughly or request information directly from their academic departments if necessary for specialized advice on your situation as a student with chronic illnesses.\\n\\n6. Prioritize Safety: As part of this process, you must also evaluate the risk involved in attending any class session versus continuing remote learning options that may already be available or negotiating flexible attendance terms while staying connected virtually through recorded lectures and online participation platforms whenever possible for a safer alternative.\\n\\n7. Document Your Medical Necessity: Prepare to provide documentation of your chronic illness if requested, without disclosing unnecessary personal medical details at this stage – stick with professional summaries or statements from healthcare providers when discussing accommodations and safety requirements for enrollment due to COVID-19 concerns.\\n\\nIn summary, while I cannot directly answer the question \"Can I still join?\" because it depends on specific institutional policies related to your personal circumstances regarding chronic illnesses and course registration timing concerning a pandemic context like COVID-19 exposure risks, these steps will help guide you toward making an informed decision. Keep in mind that safety should always be the top priority given health concerns during this period.'"
      ]
     },
     "execution_count": 8,
     "metadata": {},
     "output_type": "execute_result"
    }
   ],
   "source": [
    "llm('can i still join the course ?')"
   ]
  },
  {
   "cell_type": "code",
   "execution_count": null,
   "metadata": {},
   "outputs": [],
   "source": []
  }
 ],
 "metadata": {
  "kernelspec": {
   "display_name": "Python 3 (ipykernel)",
   "language": "python",
   "name": "python3"
  },
  "language_info": {
   "codemirror_mode": {
    "name": "ipython",
    "version": 3
   },
   "file_extension": ".py",
   "mimetype": "text/x-python",
   "name": "python",
   "nbconvert_exporter": "python",
   "pygments_lexer": "ipython3",
   "version": "3.10.13"
  }
 },
 "nbformat": 4,
 "nbformat_minor": 4
}
