{
 "cells": [
  {
   "cell_type": "markdown",
   "id": "f4e012d9-b6c0-4d68-b608-f0c1be37b5fd",
   "metadata": {},
   "source": [
    "# Experimenting with diy-search engine and elastic-search to build the context and generate responses from OpenAI"
   ]
  },
  {
   "cell_type": "code",
   "execution_count": 1,
   "id": "25206403-5d45-4e23-aca6-0eabe739fa53",
   "metadata": {},
   "outputs": [],
   "source": [
    "import json\n",
    "import requests\n",
    "import minsearch\n",
    "from openai import OpenAI"
   ]
  },
  {
   "cell_type": "code",
   "execution_count": 2,
   "id": "e88dc84f-7114-480b-bd40-7858939168f4",
   "metadata": {},
   "outputs": [],
   "source": [
    "with open('documents.json','rt') as f_in:\n",
    "    docs = json.load(f_in)"
   ]
  },
  {
   "cell_type": "code",
   "execution_count": 3,
   "id": "85583d04-121b-43b4-89bc-0bef3cdc31f0",
   "metadata": {},
   "outputs": [],
   "source": [
    "documents = []\n",
    "\n",
    "for course_dict in docs:\n",
    "    for doc in course_dict['documents']:\n",
    "        doc['course'] = course_dict['course']\n",
    "        documents.append(doc)"
   ]
  },
  {
   "cell_type": "code",
   "execution_count": 4,
   "id": "ec36cde4-628e-4f12-9dbc-b23d64322cee",
   "metadata": {},
   "outputs": [
    {
     "data": {
      "text/plain": [
       "<minsearch.Index at 0x71ff0c277820>"
      ]
     },
     "execution_count": 4,
     "metadata": {},
     "output_type": "execute_result"
    }
   ],
   "source": [
    "index = minsearch.Index(text_fields=[\"question\", \"text\", \"section\"],\n",
    "                        keyword_fields=[\"course\"]\n",
    ")\n",
    "\n",
    "index.fit(documents)"
   ]
  },
  {
   "cell_type": "code",
   "execution_count": 19,
   "id": "5c93400a-30ee-407a-b34f-6a8b089a63ee",
   "metadata": {},
   "outputs": [],
   "source": [
    "def search(q):\n",
    "    boost = {'question': 3.0, 'section': 0.5}\n",
    "\n",
    "    results = index.search(\n",
    "        query=q,\n",
    "        filter_dict={'course': 'data-engineering-zoomcamp'},\n",
    "        boost_dict=boost,\n",
    "        num_results=5\n",
    "    )\n",
    "    return results"
   ]
  },
  {
   "cell_type": "code",
   "execution_count": 31,
   "id": "6f61c1ad-4e60-4088-ab68-9aee30e4b825",
   "metadata": {},
   "outputs": [],
   "source": [
    "def build_prompt(question, context):\n",
    "    prompt = \"\"\"You are a chatbot answering frequently asked questions for an online course. \n",
    "    Provide ANSWER to the QUESTION based on the CONTEXT given below. \n",
    "    Only state the facts from the CONTEXT else respond that information is not available.\n",
    "    \n",
    "    QUESTION = {question}\n",
    "    CONTEXT = {context}\n",
    "    ANSWER\n",
    "    \"\"\"\n",
    "    prompt_output = prompt.format(question = question, context=context)\n",
    "    return prompt_output"
   ]
  },
  {
   "cell_type": "code",
   "execution_count": 32,
   "id": "18c5ad76-72ab-4853-b0a4-9ccbac5e5079",
   "metadata": {},
   "outputs": [],
   "source": [
    "def rag_response(q):\n",
    "    client = OpenAI()\n",
    "    context = search(q)\n",
    "    prompt = build_prompt(q, context)\n",
    "    response = client.chat.completions.create(model='gpt-4o',\n",
    "               messages = [{\"role\":\"user\",\"content\":prompt}])\n",
    "    return response.choices[0].message.content"
   ]
  },
  {
   "cell_type": "code",
   "execution_count": 34,
   "id": "375133db-90e0-440a-b99e-02284c8c6b3c",
   "metadata": {},
   "outputs": [
    {
     "data": {
      "text/plain": [
       "'The provided context does not specify whether knowledge of Python is necessary to pass the course. Information is not available.'"
      ]
     },
     "execution_count": 34,
     "metadata": {},
     "output_type": "execute_result"
    }
   ],
   "source": [
    "query = \"Do I need to know python to pass the course?\"\n",
    "rag_response(query)"
   ]
  },
  {
   "cell_type": "code",
   "execution_count": 35,
   "id": "69b21ecd-af7e-48d6-99b0-d3701d5528b7",
   "metadata": {},
   "outputs": [
    {
     "data": {
      "text/plain": [
       "[{'text': \"The purpose of this document is to capture frequently asked technical questions\\nThe exact day and hour of the course will be 15th Jan 2024 at 17h00. The course will start with the first  “Office Hours'' live.\\nSubscribe to course public Google Calendar (it works from Desktop only).\\nRegister before the course starts using this link.\\nJoin the course Telegram channel with announcements.\\nDon’t forget to register in DataTalks.Club's Slack and join the channel.\",\n",
       "  'section': 'General course-related questions',\n",
       "  'question': 'Course - When will the course start?',\n",
       "  'course': 'data-engineering-zoomcamp'},\n",
       " {'text': 'You can start by installing and setting up all the dependencies and requirements:\\nGoogle cloud account\\nGoogle Cloud SDK\\nPython 3 (installed with Anaconda)\\nTerraform\\nGit\\nLook over the prerequisites and syllabus to see if you are comfortable with these subjects.',\n",
       "  'section': 'General course-related questions',\n",
       "  'question': 'Course - What can I do before the course starts?',\n",
       "  'course': 'data-engineering-zoomcamp'},\n",
       " {'text': 'In this lecture, Alexey deleted his instance in Google Cloud. Do I have to do it?\\nNope. Do not delete your instance in Google Cloud platform. Otherwise, you have to do this twice for the week 1 readings.',\n",
       "  'section': 'Module 1: Docker and Terraform',\n",
       "  'question': 'GCP - Do I need to delete my instance in Google Cloud?',\n",
       "  'course': 'data-engineering-zoomcamp'},\n",
       " {'text': \"Vic created three different datasets in the videos.. dbt_<name> was used for development and you used a production dataset for the production environment. What was the use for the staging dataset?\\nR: Staging, as the name suggests, is like an intermediate between the raw datasets and the fact and dim tables, which are the finished product, so to speak. You'll notice that the datasets in staging are materialised as views and not tables.\\nVic didn't use it for the project, you just need to create production and dbt_name + trips_data_all that you had already.\",\n",
       "  'section': 'Module 4: analytics engineering with dbt',\n",
       "  'question': 'Why do we need the Staging dataset?',\n",
       "  'course': 'data-engineering-zoomcamp'},\n",
       " {'text': 'After you create a GitHub account, you should clone the course repo to your local machine using the process outlined in this video: Git for Everybody: How to Clone a Repository from GitHub\\nHaving this local repository on your computer will make it easy for you to access the instructors’ code and make pull requests (if you want to add your own notes or make changes to the course content).\\nYou will probably also create your own repositories that host your notes, versions of your file, to do this. Here is a great tutorial that shows you how to do this: https://www.atlassian.com/git/tutorials/setting-up-a-repository\\nRemember to ignore large database, .csv, and .gz files, and other files that should not be saved to a repository. Use .gitignore for this: https://www.atlassian.com/git/tutorials/saving-changes/gitignore NEVER store passwords or keys in a git repo (even if that repo is set to private).\\nThis is also a great resource: https://dangitgit.com/',\n",
       "  'section': 'General course-related questions',\n",
       "  'question': 'How do I use Git / GitHub for this course?',\n",
       "  'course': 'data-engineering-zoomcamp'}]"
      ]
     },
     "execution_count": 35,
     "metadata": {},
     "output_type": "execute_result"
    }
   ],
   "source": [
    "search(query)"
   ]
  },
  {
   "cell_type": "markdown",
   "id": "7c2bcc31-7589-44db-831c-ed90fe18e93c",
   "metadata": {},
   "source": [
    "# Elastic Search\n",
    "###Run Following docker container to host elasticsearch and forward ports 9200 and 9300 if not done automatically.\n",
    "\n",
    "docker run -it \\\r\n",
    "    --rm \\\r\n",
    "    --name elasticsearch \\\r\n",
    "    -p 9200:9200 \\\r\n",
    "    -p 9300:9300 \\\r\n",
    "    -e \"discovery.type=single-node\" \\\r\n",
    "    -e \"xpack.security.enabled=false\" \\\r\n",
    "    docker.elastic.co/elasticsearch/elasticsearch:8.4.3"
   ]
  },
  {
   "cell_type": "code",
   "execution_count": 36,
   "id": "16df80b3-77a9-46c5-a57b-52049f3d786d",
   "metadata": {},
   "outputs": [],
   "source": [
    "from elasticsearch import Elasticsearch"
   ]
  },
  {
   "cell_type": "code",
   "execution_count": 41,
   "id": "6ca7837a-4ebd-4df5-8fcd-1185a3bfbe49",
   "metadata": {},
   "outputs": [],
   "source": [
    "es_client = Elasticsearch('http://localhost:9200') "
   ]
  },
  {
   "cell_type": "code",
   "execution_count": 42,
   "id": "5201a614-d2f6-4623-a46b-31b54b2235bc",
   "metadata": {},
   "outputs": [
    {
     "data": {
      "text/plain": [
       "ObjectApiResponse({'acknowledged': True, 'shards_acknowledged': True, 'index': 'course-questions'})"
      ]
     },
     "execution_count": 42,
     "metadata": {},
     "output_type": "execute_result"
    }
   ],
   "source": [
    "index_settings = {\n",
    "    \"settings\": {\n",
    "        \"number_of_shards\": 1,\n",
    "        \"number_of_replicas\": 0\n",
    "    },\n",
    "    \"mappings\": {\n",
    "        \"properties\": {\n",
    "            \"text\": {\"type\": \"text\"},\n",
    "            \"section\": {\"type\": \"text\"},\n",
    "            \"question\": {\"type\": \"text\"},\n",
    "            \"course\": {\"type\": \"keyword\"} \n",
    "        }\n",
    "    }\n",
    "}\n",
    "\n",
    "index_name = \"course-questions\"\n",
    "\n",
    "es_client.indices.create(index=index_name, body=index_settings)"
   ]
  },
  {
   "cell_type": "code",
   "execution_count": 47,
   "id": "2f73f189-80b7-415e-a489-f7c07a9255cf",
   "metadata": {},
   "outputs": [],
   "source": [
    "for doc in documents:\n",
    "    es_client.index(index=index_name,document=doc)"
   ]
  },
  {
   "cell_type": "code",
   "execution_count": 78,
   "id": "200f9476-24df-46a4-81d3-7fdfcfef0105",
   "metadata": {},
   "outputs": [],
   "source": [
    "def elastic_search(query):\n",
    "    search_query = {\n",
    "                    \"size\": 5,\n",
    "                    \"query\": {\n",
    "                        \"bool\": {\n",
    "                            \"must\": {\n",
    "                                \"multi_match\": {\n",
    "                                    \"query\": query,\n",
    "                                    \"fields\": [\"question^3\", \"text^2\", \"section\"],\n",
    "                                    \"type\": \"best_fields\"\n",
    "                                }\n",
    "                            },\n",
    "                            \"filter\": {\n",
    "                                \"term\": {\n",
    "                                    \"course\": \"data-engineering-zoomcamp\"\n",
    "                                }\n",
    "                            }\n",
    "                        }\n",
    "                    }\n",
    "                }\n",
    "    response = es_client.search(index=index_name,body=search_query)\n",
    "    result = []\n",
    "    for hit in response['hits']['hits']:\n",
    "        result.append(hit['_source'])\n",
    "    return result"
   ]
  },
  {
   "cell_type": "code",
   "execution_count": 79,
   "id": "6e69f1ec-a063-45be-8455-74dd1b363603",
   "metadata": {},
   "outputs": [],
   "source": [
    "def rag_elastic(q):\n",
    "    client = OpenAI()\n",
    "    context = elastic_search(q)\n",
    "    prompt = build_prompt(q, context)\n",
    "    response = client.chat.completions.create(model='gpt-4o',\n",
    "               messages = [{\"role\":\"user\",\"content\":prompt}])\n",
    "    return response.choices[0].message.content"
   ]
  },
  {
   "cell_type": "code",
   "execution_count": 86,
   "id": "62900170-d659-4f36-a806-4afb62d9eeac",
   "metadata": {},
   "outputs": [],
   "source": [
    "query = \"python version required for course ?\""
   ]
  },
  {
   "cell_type": "code",
   "execution_count": 87,
   "id": "656414c2-c785-4c39-bbbf-261bc5d4a472",
   "metadata": {},
   "outputs": [
    {
     "data": {
      "text/plain": [
       "'The recommended Python version for the course is Python 3.9 for simplicity and stability, but Python 3.10 and 3.11 should also work fine.'"
      ]
     },
     "execution_count": 87,
     "metadata": {},
     "output_type": "execute_result"
    }
   ],
   "source": [
    "rag_elastic(query)"
   ]
  },
  {
   "cell_type": "code",
   "execution_count": null,
   "id": "2899be2c-5e3e-4a18-8515-f03b5a37846d",
   "metadata": {},
   "outputs": [],
   "source": []
  }
 ],
 "metadata": {
  "kernelspec": {
   "display_name": "Python 3 (ipykernel)",
   "language": "python",
   "name": "python3"
  },
  "language_info": {
   "codemirror_mode": {
    "name": "ipython",
    "version": 3
   },
   "file_extension": ".py",
   "mimetype": "text/x-python",
   "name": "python",
   "nbconvert_exporter": "python",
   "pygments_lexer": "ipython3",
   "version": "3.10.14"
  }
 },
 "nbformat": 4,
 "nbformat_minor": 5
}
